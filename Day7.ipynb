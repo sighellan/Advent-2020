{
 "cells": [
  {
   "cell_type": "code",
   "execution_count": 1,
   "metadata": {},
   "outputs": [],
   "source": [
    "from helper import *"
   ]
  },
  {
   "cell_type": "code",
   "execution_count": 2,
   "metadata": {},
   "outputs": [],
   "source": [
    "# Import data\n",
    "example_data = read_file('Day7_example.txt')\n",
    "test_data = read_file('Day7.txt')"
   ]
  },
  {
   "cell_type": "markdown",
   "metadata": {},
   "source": [
    "# Part 1"
   ]
  },
  {
   "cell_type": "code",
   "execution_count": 3,
   "metadata": {},
   "outputs": [],
   "source": [
    "def recursive(bag_name, bag_dict):\n",
    "    if bag_name not in bag_dict.keys():\n",
    "        return {bag_name}\n",
    "    else:\n",
    "        all_childs = set([])\n",
    "        for child in bag_dict[bag_name]:\n",
    "            all_childs = all_childs.union(recursive(child, bag_dict))\n",
    "        return all_childs.union({bag_name})"
   ]
  },
  {
   "cell_type": "code",
   "execution_count": 4,
   "metadata": {},
   "outputs": [],
   "source": [
    "data = test_data\n",
    "\n",
    "bag_dict = {}\n",
    "for row in data:\n",
    "    row_list = row.split(' ')\n",
    "    bag_name = row_list[0] + ' ' + row_list[1]\n",
    "    if row_list[4] == 'no':\n",
    "        continue\n",
    "    else:\n",
    "        bag_list = row.split('contain ')[1]\n",
    "        for bag in bag_list.split(', '):\n",
    "            lower_bag_name = bag.split(' ')[1] + ' ' + bag.split(' ')[2]\n",
    "            if lower_bag_name in bag_dict.keys():\n",
    "                bag_dict[lower_bag_name].append(bag_name)\n",
    "            else:\n",
    "                bag_dict[lower_bag_name] = [bag_name]"
   ]
  },
  {
   "cell_type": "code",
   "execution_count": 5,
   "metadata": {},
   "outputs": [
    {
     "name": "stdout",
     "output_type": "stream",
     "text": [
      "Part one solution: 128\n"
     ]
    }
   ],
   "source": [
    "\n",
    "top_bag = 'shiny gold'\n",
    "part_one_sol = len(recursive(top_bag, bag_dict))-1\n",
    "print('Part one solution: %s' %part_one_sol)"
   ]
  },
  {
   "cell_type": "markdown",
   "metadata": {},
   "source": [
    "# Part 2"
   ]
  },
  {
   "cell_type": "code",
   "execution_count": 6,
   "metadata": {},
   "outputs": [],
   "source": [
    "data = test_data\n",
    "\n",
    "bag_dict = {}\n",
    "for row in data:\n",
    "    row_list = row.split(' ')\n",
    "    bag_name = row_list[0] + ' ' + row_list[1]\n",
    "    if row_list[4] == 'no':\n",
    "        continue\n",
    "    else:\n",
    "        bag_list = row.split('contain ')[1]\n",
    "        for bag in bag_list.split(', '):\n",
    "            lower_bag_name = bag.split(' ')[1] + ' ' + bag.split(' ')[2]\n",
    "            lower_bag_count = int(bag.split(' ')[0])\n",
    "            if bag_name in bag_dict.keys():\n",
    "                bag_dict[bag_name].append((lower_bag_name, lower_bag_count))\n",
    "            else:\n",
    "                bag_dict[bag_name] = [(lower_bag_name, lower_bag_count)]"
   ]
  },
  {
   "cell_type": "code",
   "execution_count": 7,
   "metadata": {},
   "outputs": [],
   "source": [
    "def recursive_p2(bag_name, bag_dict):\n",
    "    if bag_name not in bag_dict.keys():\n",
    "        return 0\n",
    "    else:\n",
    "        tally = 0\n",
    "        for child, child_count in bag_dict[bag_name]:\n",
    "            tally += child_count * (recursive_p2(child, bag_dict) + 1)\n",
    "        return tally"
   ]
  },
  {
   "cell_type": "code",
   "execution_count": 8,
   "metadata": {},
   "outputs": [
    {
     "name": "stdout",
     "output_type": "stream",
     "text": [
      "Part two solution: 20189\n"
     ]
    }
   ],
   "source": [
    "top_bag = 'shiny gold'\n",
    "print('Part two solution: %s' %recursive_p2(top_bag, bag_dict))"
   ]
  },
  {
   "cell_type": "code",
   "execution_count": null,
   "metadata": {},
   "outputs": [],
   "source": []
  }
 ],
 "metadata": {
  "kernelspec": {
   "display_name": "gpag",
   "language": "python",
   "name": "gpag"
  },
  "language_info": {
   "codemirror_mode": {
    "name": "ipython",
    "version": 3
   },
   "file_extension": ".py",
   "mimetype": "text/x-python",
   "name": "python",
   "nbconvert_exporter": "python",
   "pygments_lexer": "ipython3",
   "version": "3.7.3"
  }
 },
 "nbformat": 4,
 "nbformat_minor": 2
}
