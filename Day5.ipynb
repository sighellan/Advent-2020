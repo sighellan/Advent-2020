{
 "cells": [
  {
   "cell_type": "code",
   "execution_count": 1,
   "metadata": {},
   "outputs": [],
   "source": [
    "import numpy as np"
   ]
  },
  {
   "cell_type": "code",
   "execution_count": 2,
   "metadata": {},
   "outputs": [],
   "source": [
    "def get_id(seat):\n",
    "    seat_list = list(seat)\n",
    "    low = 0\n",
    "    high = 127\n",
    "    for ii in range(7):\n",
    "        if seat_list[ii] == 'F':\n",
    "            high = (high-low)//2 + low\n",
    "        else:\n",
    "            low = np.ceil((high-low)/2) + low\n",
    "#     print(low, high)\n",
    "    assert low == high\n",
    "    row = low\n",
    "    \n",
    "    low = 0\n",
    "    high = 7\n",
    "    for ii in range(7, 10):\n",
    "        if seat_list[ii] == 'L':\n",
    "            high = (high-low)//2 + low\n",
    "        else:\n",
    "            low = np.ceil((high-low)/2) + low\n",
    "#     print(low, high)\n",
    "    assert low == high\n",
    "    column = low\n",
    "    return int(row*8+column)"
   ]
  },
  {
   "cell_type": "code",
   "execution_count": 3,
   "metadata": {},
   "outputs": [
    {
     "data": {
      "text/plain": [
       "820"
      ]
     },
     "execution_count": 3,
     "metadata": {},
     "output_type": "execute_result"
    }
   ],
   "source": [
    "# Example\n",
    "get_id('BBFFBBFRLL')"
   ]
  },
  {
   "cell_type": "code",
   "execution_count": 4,
   "metadata": {},
   "outputs": [],
   "source": [
    "# Import data\n",
    "data = []\n",
    "with open('Day5.txt') as inp_file:\n",
    "    for row in inp_file:\n",
    "        data.append(row)"
   ]
  },
  {
   "cell_type": "markdown",
   "metadata": {},
   "source": [
    "# Part 1"
   ]
  },
  {
   "cell_type": "code",
   "execution_count": 5,
   "metadata": {},
   "outputs": [
    {
     "name": "stdout",
     "output_type": "stream",
     "text": [
      "Part one solution: 930\n"
     ]
    }
   ],
   "source": [
    "high_id = -np.inf\n",
    "for seat in data:\n",
    "    seat_id = get_id(seat)\n",
    "    if seat_id > high_id:\n",
    "        high_id = seat_id\n",
    "\n",
    "print('Part one solution: %s' %high_id)"
   ]
  },
  {
   "cell_type": "markdown",
   "metadata": {},
   "source": [
    "# Part 2"
   ]
  },
  {
   "cell_type": "code",
   "execution_count": 6,
   "metadata": {},
   "outputs": [],
   "source": [
    "# Array of whether seats exist\n",
    "seats = np.zeros(high_id+1)\n",
    "for seat in data:\n",
    "    seat_id = get_id(seat)\n",
    "    seats[seat_id] = 1"
   ]
  },
  {
   "cell_type": "code",
   "execution_count": 7,
   "metadata": {},
   "outputs": [
    {
     "name": "stdout",
     "output_type": "stream",
     "text": [
      "Part two solution: 515\n"
     ]
    }
   ],
   "source": [
    "started = False\n",
    "for ii in range(high_id+1):\n",
    "    if not started and seats[ii]: \n",
    "        # has come to the start of the existing seats\n",
    "        started = True\n",
    "    if started and not seats[ii]:\n",
    "        print('Part two solution: %s' %ii)\n",
    "        break"
   ]
  },
  {
   "cell_type": "code",
   "execution_count": null,
   "metadata": {},
   "outputs": [],
   "source": []
  }
 ],
 "metadata": {
  "kernelspec": {
   "display_name": "gpag",
   "language": "python",
   "name": "gpag"
  },
  "language_info": {
   "codemirror_mode": {
    "name": "ipython",
    "version": 3
   },
   "file_extension": ".py",
   "mimetype": "text/x-python",
   "name": "python",
   "nbconvert_exporter": "python",
   "pygments_lexer": "ipython3",
   "version": "3.7.3"
  }
 },
 "nbformat": 4,
 "nbformat_minor": 2
}
