{
 "cells": [
  {
   "cell_type": "code",
   "execution_count": 1,
   "metadata": {},
   "outputs": [],
   "source": [
    "from helper import *\n",
    "import copy"
   ]
  },
  {
   "cell_type": "code",
   "execution_count": 2,
   "metadata": {},
   "outputs": [],
   "source": [
    "# Import data\n",
    "exmp_data = read_file('Day19_example.txt')\n",
    "exmp_datab = read_file('Day19_exampleb.txt')\n",
    "test_data = read_file('Day19.txt')"
   ]
  },
  {
   "cell_type": "code",
   "execution_count": 3,
   "metadata": {},
   "outputs": [],
   "source": [
    "data = test_data\n",
    "\n",
    "rules = {}\n",
    "messages = []\n",
    "for row in data:\n",
    "    if row == '':\n",
    "        continue\n",
    "    row_sp = row.split(': ')\n",
    "    if len(row_sp) > 1:\n",
    "        if len(row_sp[1]) == 3 and row_sp[1][0] + row_sp[1][2] == '\"\"':\n",
    "            rules[row_sp[0]] = row_sp[1][1]\n",
    "        else:\n",
    "            rules[row_sp[0]] = row_sp[1]\n",
    "    else:\n",
    "        messages.append(row)"
   ]
  },
  {
   "cell_type": "code",
   "execution_count": 4,
   "metadata": {},
   "outputs": [],
   "source": [
    "def check_rule_wrapper(rule_dict, message, rule_idx='0', ii=0):\n",
    "    tst, ii = check_rule(rule_idx, rule_dict, message, ii)\n",
    "    if not tst or ii != len(message):\n",
    "        return False\n",
    "    return True\n",
    "\n",
    "def check_rule(rule_idx, rule_dict, message, ii):\n",
    "    rule = rule_dict[rule_idx]\n",
    "    if rule in ['a', 'b']:\n",
    "        if message[ii] == rule:\n",
    "            return True, ii+1\n",
    "        else:\n",
    "            return False, ii+1\n",
    "    options = rule.split(' | ')\n",
    "    ii_start = ii\n",
    "    for opt in options:\n",
    "        opt_flag = True\n",
    "        ii = ii_start\n",
    "        parts = opt.split(' ')\n",
    "        for char in parts:\n",
    "            opt_flag, ii = check_rule(char, rule_dict, message, ii)\n",
    "            if not opt_flag:\n",
    "                break\n",
    "        if opt_flag:\n",
    "            return True, ii\n",
    "    return False, ii"
   ]
  },
  {
   "cell_type": "code",
   "execution_count": 5,
   "metadata": {},
   "outputs": [
    {
     "name": "stdout",
     "output_type": "stream",
     "text": [
      "Part one solution: 102\n"
     ]
    }
   ],
   "source": [
    "count = 0\n",
    "for mm in messages:\n",
    "    count += check_rule_wrapper(rules, mm)\n",
    "print('Part one solution: %s' %count)"
   ]
  },
  {
   "cell_type": "markdown",
   "metadata": {},
   "source": [
    "# Part 2"
   ]
  },
  {
   "cell_type": "code",
   "execution_count": 6,
   "metadata": {},
   "outputs": [],
   "source": [
    "# Fixes to rules given in puzzle part two description\n",
    "rules_p2 = copy.deepcopy(rules)\n",
    "rules_p2['8'] = '42 | 42 8'\n",
    "rules_p2['11'] = '42 31 | 42 11 31'"
   ]
  },
  {
   "cell_type": "code",
   "execution_count": 7,
   "metadata": {},
   "outputs": [],
   "source": [
    "def check_rule_wrapper_p2(rule_dict, message, rule_idx='0', ii=0,\n",
    "                      r_depth=0):\n",
    "    tst, ii_opt = check_rule_p2(rule_idx, rule_dict, message, ii,\n",
    "                        r_depth)\n",
    "    if not tst or len(message) not in ii_opt:\n",
    "        return False\n",
    "    return True\n",
    "\n",
    "def check_rule_p2(rule_idx, rule_dict, message, ii, r_depth):\n",
    "    if ii >= len(message) or r_depth > 5:\n",
    "        return False, [ii]\n",
    "    rule = rule_dict[rule_idx]\n",
    "    if rule in ['a', 'b']:\n",
    "        if message[ii] == rule:\n",
    "            return True, [ii+1]\n",
    "        else:\n",
    "            return False, [ii+1]\n",
    "    options = rule.split(' | ')\n",
    "    ii_start = ii\n",
    "    possible = []\n",
    "    for opt in options:\n",
    "        opt_flag = True\n",
    "        sub_pos = [ii_start]\n",
    "        parts = opt.split(' ')\n",
    "        for char in parts:\n",
    "            next_pos = []\n",
    "            for jj in sub_pos:\n",
    "                if char == rule_idx:\n",
    "                    new_rr = r_depth+1\n",
    "                else:\n",
    "                    new_rr = r_depth\n",
    "                \n",
    "                tst, nn = check_rule_p2(char, rule_dict, message, jj, new_rr)\n",
    "                if tst:\n",
    "                    next_pos += nn\n",
    "            sub_pos = next_pos\n",
    "            if sub_pos == []:\n",
    "                opt_flag = False\n",
    "                break    \n",
    "\n",
    "        if opt_flag:\n",
    "            possible += sub_pos\n",
    "    if len(possible) > 0:\n",
    "        return True, possible\n",
    "    return False, [ii]   "
   ]
  },
  {
   "cell_type": "code",
   "execution_count": 8,
   "metadata": {},
   "outputs": [
    {
     "name": "stdout",
     "output_type": "stream",
     "text": [
      "Part two solution: 318\n"
     ]
    }
   ],
   "source": [
    "count = 0\n",
    "for mm in messages:\n",
    "    count += check_rule_wrapper_p2(rules_p2, mm)\n",
    "print('Part two solution: %s' %count)"
   ]
  },
  {
   "cell_type": "code",
   "execution_count": null,
   "metadata": {},
   "outputs": [],
   "source": []
  }
 ],
 "metadata": {
  "kernelspec": {
   "display_name": "gpag",
   "language": "python",
   "name": "gpag"
  },
  "language_info": {
   "codemirror_mode": {
    "name": "ipython",
    "version": 3
   },
   "file_extension": ".py",
   "mimetype": "text/x-python",
   "name": "python",
   "nbconvert_exporter": "python",
   "pygments_lexer": "ipython3",
   "version": "3.7.3"
  }
 },
 "nbformat": 4,
 "nbformat_minor": 2
}
