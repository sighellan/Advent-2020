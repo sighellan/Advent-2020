{
 "cells": [
  {
   "cell_type": "code",
   "execution_count": 1,
   "metadata": {},
   "outputs": [],
   "source": [
    "from helper import *\n",
    "import numpy as np"
   ]
  },
  {
   "cell_type": "code",
   "execution_count": 2,
   "metadata": {},
   "outputs": [],
   "source": [
    "# Import data\n",
    "examp_data = read_file('Day11_example.txt')\n",
    "test_data = read_file('Day11.txt')"
   ]
  },
  {
   "cell_type": "markdown",
   "metadata": {},
   "source": [
    "# Part 1"
   ]
  },
  {
   "cell_type": "code",
   "execution_count": 3,
   "metadata": {},
   "outputs": [],
   "source": [
    "def count_nb(seat_array, rr, cc):\n",
    "    count = 0\n",
    "    for pair in [(rr-1, cc-1),\n",
    "                 (rr-1, cc),\n",
    "                 (rr-1, cc+1),\n",
    "                 (rr, cc-1),\n",
    "                 (rr, cc+1),\n",
    "                 (rr+1, cc-1),\n",
    "                 (rr+1, cc),\n",
    "                 (rr+1, cc+1)]:\n",
    "        try:\n",
    "            assert pair[0] >= 0\n",
    "            assert pair[1] >= 0\n",
    "            if seat_array[pair[0], pair[1]] == 1:\n",
    "                count += 1\n",
    "        except:\n",
    "            continue\n",
    "    return count\n",
    "\n",
    "def step(seat_array):\n",
    "    new_seats = np.zeros((Nr, Nc))\n",
    "    for rr in range(Nr):\n",
    "        for cc in range(Nc):\n",
    "            if not seat_array[rr, cc] < np.inf:\n",
    "                # Don't fill floor\n",
    "                new_seats[rr, cc] = seat_array[rr, cc]\n",
    "            else:\n",
    "                nbs = count_nb(seat_array, rr, cc)\n",
    "                if not seat_array[rr, cc] and nbs == 0:\n",
    "                    new_seats[rr, cc] = 1\n",
    "                elif seat_array[rr, cc] and nbs >= 4:\n",
    "                    new_seats[rr, cc] = 0\n",
    "                else:\n",
    "                    new_seats[rr, cc] = seat_array[rr, cc]\n",
    "    return new_seats\n",
    "\n",
    "def check_same(seats, prev):\n",
    "    for rr in range(Nr):\n",
    "        for cc in range(Nc):\n",
    "            if seats[rr, cc] < np.inf:\n",
    "                if seats[rr, cc] != prev[rr, cc]:\n",
    "                    return False\n",
    "    return True"
   ]
  },
  {
   "cell_type": "code",
   "execution_count": 4,
   "metadata": {},
   "outputs": [],
   "source": [
    "data = test_data\n",
    "\n",
    "Nr = len(data)\n",
    "Nc = len(data[0])\n",
    "seats = np.zeros((Nr, Nc))\n",
    "for rr in range(Nr):\n",
    "    row = data[rr]\n",
    "    for cc in range(Nc):\n",
    "        ent = row[cc]\n",
    "        if ent == 'L':\n",
    "            seats[rr, cc] = 0\n",
    "        else:\n",
    "            seats[rr, cc] = np.nan"
   ]
  },
  {
   "cell_type": "code",
   "execution_count": 5,
   "metadata": {},
   "outputs": [
    {
     "name": "stdout",
     "output_type": "stream",
     "text": [
      "Part one solution: 2406\n"
     ]
    }
   ],
   "source": [
    "prev_seats = None\n",
    "for _ in range(100):\n",
    "    prev_seats = seats\n",
    "    seats = step(seats)\n",
    "    if check_same(seats, prev_seats):\n",
    "        print('Part one solution: %s' %int(np.nansum(seats)))\n",
    "        break"
   ]
  },
  {
   "cell_type": "markdown",
   "metadata": {},
   "source": [
    "# Part 2"
   ]
  },
  {
   "cell_type": "code",
   "execution_count": 6,
   "metadata": {},
   "outputs": [],
   "source": [
    "def count_nb2(seat_array, rr, cc):\n",
    "    count = 0\n",
    "    for ii, jj in [(-1, 0-1),\n",
    "                 (-1, 0),\n",
    "                 (-1, +1),\n",
    "                 (0, -1),\n",
    "                 (0, +1),\n",
    "                 (+1, -1),\n",
    "                 (+1, 0),\n",
    "                 (+1, +1)]:\n",
    "        try:\n",
    "            kk = 1\n",
    "            while True:\n",
    "                assert rr+kk*ii >= 0\n",
    "                assert cc+kk*jj >= 0\n",
    "                if seat_array[rr+kk*ii, cc+kk*jj] == 1:\n",
    "                    count += 1\n",
    "                    break\n",
    "                elif seat_array[rr+kk*ii, cc+kk*jj] == 0:\n",
    "                    break\n",
    "                else:\n",
    "                    kk += 1\n",
    "        except:\n",
    "            continue\n",
    "    return count\n",
    "\n",
    "def step2(seat_array):\n",
    "    new_seats = np.zeros((Nr, Nc))\n",
    "    for rr in range(Nr):\n",
    "        for cc in range(Nc):\n",
    "            if not seat_array[rr, cc] < np.inf:\n",
    "                # Don't fill floor\n",
    "                new_seats[rr, cc] = seat_array[rr, cc]\n",
    "            else:\n",
    "                nbs = count_nb2(seat_array, rr, cc)\n",
    "                if not seat_array[rr, cc] and nbs == 0:\n",
    "                    new_seats[rr, cc] = 1\n",
    "                elif seat_array[rr, cc] and nbs >= 5:\n",
    "                    new_seats[rr, cc] = 0\n",
    "                else:\n",
    "                    new_seats[rr, cc] = seat_array[rr, cc]\n",
    "    return new_seats"
   ]
  },
  {
   "cell_type": "code",
   "execution_count": 7,
   "metadata": {},
   "outputs": [],
   "source": [
    "data = test_data\n",
    "\n",
    "Nr = len(data)\n",
    "Nc = len(data[0])\n",
    "seats = np.zeros((Nr, Nc))\n",
    "for rr in range(Nr):\n",
    "    row = data[rr]\n",
    "    for cc in range(Nc):\n",
    "        ent = row[cc]\n",
    "        if ent == 'L':\n",
    "            seats[rr, cc] = 0\n",
    "        else:\n",
    "            seats[rr, cc] = np.nan"
   ]
  },
  {
   "cell_type": "code",
   "execution_count": 8,
   "metadata": {},
   "outputs": [
    {
     "name": "stdout",
     "output_type": "stream",
     "text": [
      "Part two solution: 2149\n"
     ]
    }
   ],
   "source": [
    "prev_seats = None\n",
    "for _ in range(100):\n",
    "    prev_seats = seats\n",
    "    seats = step2(seats)\n",
    "    if check_same(seats, prev_seats):\n",
    "        print('Part two solution: %s' %int(np.nansum(seats)))\n",
    "        break"
   ]
  },
  {
   "cell_type": "code",
   "execution_count": null,
   "metadata": {},
   "outputs": [],
   "source": []
  }
 ],
 "metadata": {
  "kernelspec": {
   "display_name": "gpag",
   "language": "python",
   "name": "gpag"
  },
  "language_info": {
   "codemirror_mode": {
    "name": "ipython",
    "version": 3
   },
   "file_extension": ".py",
   "mimetype": "text/x-python",
   "name": "python",
   "nbconvert_exporter": "python",
   "pygments_lexer": "ipython3",
   "version": "3.7.3"
  }
 },
 "nbformat": 4,
 "nbformat_minor": 2
}
