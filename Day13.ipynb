{
 "cells": [
  {
   "cell_type": "code",
   "execution_count": 1,
   "metadata": {},
   "outputs": [],
   "source": [
    "from helper import *"
   ]
  },
  {
   "cell_type": "code",
   "execution_count": 2,
   "metadata": {},
   "outputs": [],
   "source": [
    "# Import data\n",
    "exmp_data = read_file('Day13_example.txt')\n",
    "test_data = read_file('Day13.txt')"
   ]
  },
  {
   "cell_type": "markdown",
   "metadata": {},
   "source": [
    "# Part 1"
   ]
  },
  {
   "cell_type": "code",
   "execution_count": 3,
   "metadata": {},
   "outputs": [],
   "source": [
    "data = test_data\n",
    "arr = int(data[0])\n",
    "buses = [int(bb) for bb in data[1].split(',') if bb != 'x']"
   ]
  },
  {
   "cell_type": "code",
   "execution_count": 4,
   "metadata": {},
   "outputs": [],
   "source": [
    "shortest = (10000000, '')\n",
    "for D in buses:\n",
    "    dist = D-arr%D\n",
    "    if dist < shortest[0]:\n",
    "        shortest = (dist, D)"
   ]
  },
  {
   "cell_type": "code",
   "execution_count": 5,
   "metadata": {},
   "outputs": [
    {
     "name": "stdout",
     "output_type": "stream",
     "text": [
      "Part one solution: 259\n"
     ]
    }
   ],
   "source": [
    "print('Part one solution: %s' %(shortest[0]*shortest[1]))"
   ]
  },
  {
   "cell_type": "markdown",
   "metadata": {},
   "source": [
    "# Part 2"
   ]
  },
  {
   "cell_type": "code",
   "execution_count": 6,
   "metadata": {},
   "outputs": [],
   "source": [
    "data = test_data\n",
    "buses = [bb for bb in data[1].split(',')]"
   ]
  },
  {
   "cell_type": "code",
   "execution_count": 7,
   "metadata": {},
   "outputs": [
    {
     "name": "stdout",
     "output_type": "stream",
     "text": [
      "114\n",
      "278217\n",
      "5574638\n",
      "81761617\n",
      "1342309815\n",
      "1246853968596\n",
      "45792826502776\n",
      "210612924879242\n",
      "\n",
      "Part two solution: 210612924879242\n"
     ]
    }
   ],
   "source": [
    "# For each bus after first:\n",
    "    # Find first cooccurence tt_b\n",
    "    # tt wil be tt_b + k*muls where muls is the product of the considered buses\n",
    "    \n",
    "muls = int(buses[0])\n",
    "tt = 0\n",
    "\n",
    "for bb, ii in zip(buses[1:], range(1, len(buses))):\n",
    "    if bb == 'x':\n",
    "        continue\n",
    "    found = False\n",
    "    while not found:\n",
    "        found_this = True\n",
    "        tt = tt + muls\n",
    "    \n",
    "        bb = int(bb)\n",
    "        if (tt + ii) % bb != 0:\n",
    "            found = False\n",
    "        else:\n",
    "            found = True\n",
    "    print(tt)\n",
    "    muls = muls * bb\n",
    "        \n",
    "print('\\nPart two solution: %s' %tt)"
   ]
  },
  {
   "cell_type": "code",
   "execution_count": null,
   "metadata": {},
   "outputs": [],
   "source": []
  }
 ],
 "metadata": {
  "kernelspec": {
   "display_name": "gpag",
   "language": "python",
   "name": "gpag"
  },
  "language_info": {
   "codemirror_mode": {
    "name": "ipython",
    "version": 3
   },
   "file_extension": ".py",
   "mimetype": "text/x-python",
   "name": "python",
   "nbconvert_exporter": "python",
   "pygments_lexer": "ipython3",
   "version": "3.7.3"
  }
 },
 "nbformat": 4,
 "nbformat_minor": 2
}
