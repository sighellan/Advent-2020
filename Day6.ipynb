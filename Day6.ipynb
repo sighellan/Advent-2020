{
 "cells": [
  {
   "cell_type": "code",
   "execution_count": 1,
   "metadata": {},
   "outputs": [],
   "source": [
    "# Import data\n",
    "example_data = []\n",
    "with open('Day6_example.txt') as inp_file:\n",
    "    for row in inp_file:\n",
    "        if row[-1] == '\\n':\n",
    "            example_data.append(row[:-1])\n",
    "        else:\n",
    "            example_data.append(row)\n",
    "            \n",
    "test_data = []\n",
    "with open('Day6.txt') as inp_file:\n",
    "    for row in inp_file:\n",
    "        if row[-1] == '\\n':\n",
    "            test_data.append(row[:-1])\n",
    "        else:\n",
    "            test_data.append(row)"
   ]
  },
  {
   "cell_type": "markdown",
   "metadata": {},
   "source": [
    "# Part one"
   ]
  },
  {
   "cell_type": "code",
   "execution_count": 2,
   "metadata": {},
   "outputs": [
    {
     "name": "stdout",
     "output_type": "stream",
     "text": [
      "Part one solution: 6768\n"
     ]
    }
   ],
   "source": [
    "data = test_data\n",
    "\n",
    "tally = 0\n",
    "cur_set = set([])\n",
    "for row in data:\n",
    "    if row == '':\n",
    "        # group done\n",
    "        tally += len(cur_set)\n",
    "        cur_set = set([])\n",
    "    else:\n",
    "        cur_set = cur_set.union(set(list(row)))\n",
    "tally += len(cur_set)\n",
    "print('Part one solution: %s' %tally)\n"
   ]
  },
  {
   "cell_type": "markdown",
   "metadata": {},
   "source": [
    "# Part two"
   ]
  },
  {
   "cell_type": "code",
   "execution_count": 3,
   "metadata": {},
   "outputs": [
    {
     "name": "stdout",
     "output_type": "stream",
     "text": [
      "Part two solution: 3489\n"
     ]
    }
   ],
   "source": [
    "data = test_data\n",
    "\n",
    "tally = 0\n",
    "cur_set = None\n",
    "for row in data:\n",
    "    if row == '':\n",
    "        # group done\n",
    "        tally += len(cur_set)\n",
    "        cur_set = None\n",
    "    else:\n",
    "        if cur_set is None:\n",
    "            cur_set = set(list(row))\n",
    "        else:\n",
    "            cur_set = cur_set.intersection(set(list(row)))\n",
    "tally += len(cur_set)\n",
    "print('Part two solution: %s' %tally)\n"
   ]
  },
  {
   "cell_type": "code",
   "execution_count": null,
   "metadata": {},
   "outputs": [],
   "source": []
  }
 ],
 "metadata": {
  "kernelspec": {
   "display_name": "gpag",
   "language": "python",
   "name": "gpag"
  },
  "language_info": {
   "codemirror_mode": {
    "name": "ipython",
    "version": 3
   },
   "file_extension": ".py",
   "mimetype": "text/x-python",
   "name": "python",
   "nbconvert_exporter": "python",
   "pygments_lexer": "ipython3",
   "version": "3.7.3"
  }
 },
 "nbformat": 4,
 "nbformat_minor": 2
}
