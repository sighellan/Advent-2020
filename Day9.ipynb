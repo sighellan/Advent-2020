{
 "cells": [
  {
   "cell_type": "code",
   "execution_count": 1,
   "metadata": {},
   "outputs": [],
   "source": [
    "from helper import *\n",
    "import numpy as np\n",
    "import copy"
   ]
  },
  {
   "cell_type": "code",
   "execution_count": 2,
   "metadata": {},
   "outputs": [],
   "source": [
    "# Import and parse data\n",
    "example_data = read_file('Day9_example.txt')\n",
    "test_data = read_file('Day9.txt')\n",
    "\n",
    "example_data = [int(ee) for ee in example_data]\n",
    "test_data = [int(ee) for ee in test_data]"
   ]
  },
  {
   "cell_type": "markdown",
   "metadata": {},
   "source": [
    "# Part one"
   ]
  },
  {
   "cell_type": "code",
   "execution_count": 3,
   "metadata": {},
   "outputs": [],
   "source": [
    "def validate_entry(entry, preamb):\n",
    "    ii = 0\n",
    "    jj = len(preamb)-1\n",
    "    while entry != preamb[ii] + preamb[jj]:\n",
    "        if ii == jj:\n",
    "            return False\n",
    "        if entry > preamb[ii] + preamb[jj]:\n",
    "            ii += 1\n",
    "        else:\n",
    "            jj -= 1\n",
    "    return True"
   ]
  },
  {
   "cell_type": "code",
   "execution_count": 4,
   "metadata": {},
   "outputs": [
    {
     "name": "stdout",
     "output_type": "stream",
     "text": [
      "Part one solution: 258585477\n"
     ]
    }
   ],
   "source": [
    "data = copy.deepcopy(test_data)\n",
    "pre_len = 25\n",
    "\n",
    "preamb = sorted(np.array(data[:pre_len]))\n",
    "for ee in range(pre_len, len(data)):\n",
    "    entry = data[ee]\n",
    "    flag = validate_entry(entry, preamb)\n",
    "    if not flag:\n",
    "        print('Part one solution: %s' %entry)\n",
    "        break\n",
    "    else:\n",
    "        idx = np.where(preamb == data[ee-pre_len])\n",
    "        preamb = np.delete(preamb, idx)\n",
    "        idx = np.sum(preamb < entry)\n",
    "        preamb = np.insert(preamb, idx, entry)"
   ]
  },
  {
   "cell_type": "markdown",
   "metadata": {},
   "source": [
    "# Part two"
   ]
  },
  {
   "cell_type": "code",
   "execution_count": 5,
   "metadata": {},
   "outputs": [],
   "source": [
    "ex_weak = 127\n",
    "te_weak = 258585477"
   ]
  },
  {
   "cell_type": "code",
   "execution_count": 6,
   "metadata": {},
   "outputs": [
    {
     "name": "stdout",
     "output_type": "stream",
     "text": [
      "success\n",
      "13858643 27525818\n",
      "Part two solution: 36981213\n"
     ]
    }
   ],
   "source": [
    "data = copy.deepcopy(test_data)\n",
    "weak = te_weak\n",
    "\n",
    "ii = 0\n",
    "jj = 1\n",
    "tally = data[ii]\n",
    "while True:\n",
    "    tally += data[jj]\n",
    "    if tally == weak:\n",
    "        print('success')\n",
    "        print(data[ii], data[jj])\n",
    "        mh = np.max(data[ii:jj+1])\n",
    "        ml = np.min(data[ii:jj+1])\n",
    "        print('Part two solution: %s' %(mh + ml))\n",
    "        break\n",
    "    elif tally < weak:\n",
    "        jj += 1\n",
    "    elif tally > weak:\n",
    "        ii += 1\n",
    "        jj = ii + 1\n",
    "        tally = data[ii]"
   ]
  }
 ],
 "metadata": {
  "kernelspec": {
   "display_name": "gpag",
   "language": "python",
   "name": "gpag"
  },
  "language_info": {
   "codemirror_mode": {
    "name": "ipython",
    "version": 3
   },
   "file_extension": ".py",
   "mimetype": "text/x-python",
   "name": "python",
   "nbconvert_exporter": "python",
   "pygments_lexer": "ipython3",
   "version": "3.7.3"
  }
 },
 "nbformat": 4,
 "nbformat_minor": 2
}
