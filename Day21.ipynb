{
 "cells": [
  {
   "cell_type": "code",
   "execution_count": 1,
   "metadata": {},
   "outputs": [],
   "source": [
    "from helper import *\n",
    "import numpy as np"
   ]
  },
  {
   "cell_type": "code",
   "execution_count": 2,
   "metadata": {},
   "outputs": [],
   "source": [
    "# Import data\n",
    "exmp_data = read_file('Day21_example.txt')\n",
    "test_data = read_file('Day21.txt')"
   ]
  },
  {
   "cell_type": "markdown",
   "metadata": {},
   "source": [
    "# Part one"
   ]
  },
  {
   "cell_type": "code",
   "execution_count": 3,
   "metadata": {},
   "outputs": [],
   "source": [
    "data = test_data\n",
    "\n",
    "all_ing = []\n",
    "ing_lists = {}\n",
    "for row in data:\n",
    "    r_split = row.split(' (')\n",
    "    ingredients = r_split[0].split(' ')\n",
    "    allergens = r_split[1][9:-1].split(', ')\n",
    "    for aller in allergens:\n",
    "        if aller in ing_lists.keys():\n",
    "            ing_lists[aller].append(ingredients)\n",
    "        else:\n",
    "            ing_lists[aller] = [ingredients]\n",
    "    all_ing = all_ing + ingredients"
   ]
  },
  {
   "cell_type": "code",
   "execution_count": 4,
   "metadata": {},
   "outputs": [],
   "source": [
    "cand_lists = {}\n",
    "\n",
    "for aller in ing_lists.keys():\n",
    "    all_set = set(ing_lists[aller][0])\n",
    "    for ii in range(1, len(ing_lists[aller])):\n",
    "        all_set = all_set.intersection(set(ing_lists[aller][ii]))\n",
    "    cand_lists[aller] = all_set"
   ]
  },
  {
   "cell_type": "code",
   "execution_count": 5,
   "metadata": {},
   "outputs": [],
   "source": [
    "allocated = {}\n",
    "while(len(allocated.keys()) < len(cand_lists.keys())):\n",
    "    for key in cand_lists.keys():\n",
    "        if key in allocated.keys():\n",
    "            continue\n",
    "        cand = cand_lists[key]\n",
    "        options = [cc for cc in cand if cc not in allocated.values()]\n",
    "        if len(options) == 1:\n",
    "            allocated[key] = options[0]"
   ]
  },
  {
   "cell_type": "code",
   "execution_count": 6,
   "metadata": {},
   "outputs": [
    {
     "name": "stdout",
     "output_type": "stream",
     "text": [
      "Part one solution: 2176\n"
     ]
    }
   ],
   "source": [
    "count = 0\n",
    "for ing in all_ing:\n",
    "    if ing not in allocated.values():\n",
    "        count += 1\n",
    "print('Part one solution: %s' %count)"
   ]
  },
  {
   "cell_type": "markdown",
   "metadata": {},
   "source": [
    "# Part two"
   ]
  },
  {
   "cell_type": "code",
   "execution_count": 7,
   "metadata": {},
   "outputs": [],
   "source": [
    "tuples = [(key, allocated[key]) for key in allocated.keys()]"
   ]
  },
  {
   "cell_type": "code",
   "execution_count": 8,
   "metadata": {},
   "outputs": [],
   "source": [
    "get_snd = lambda xx: xx[0]"
   ]
  },
  {
   "cell_type": "code",
   "execution_count": 9,
   "metadata": {},
   "outputs": [
    {
     "name": "stdout",
     "output_type": "stream",
     "text": [
      "Part two solution:\n",
      "lvv,xblchx,tr,gzvsg,jlsqx,fnntr,pmz,csqc\n"
     ]
    }
   ],
   "source": [
    "str_col = ''\n",
    "for word in [aa[1] for aa in sorted(tuples, key=get_snd)]:\n",
    "    str_col+= word + ','\n",
    "print('Part two solution:')\n",
    "print(str_col[:-1])"
   ]
  },
  {
   "cell_type": "code",
   "execution_count": null,
   "metadata": {},
   "outputs": [],
   "source": []
  }
 ],
 "metadata": {
  "kernelspec": {
   "display_name": "gpag",
   "language": "python",
   "name": "gpag"
  },
  "language_info": {
   "codemirror_mode": {
    "name": "ipython",
    "version": 3
   },
   "file_extension": ".py",
   "mimetype": "text/x-python",
   "name": "python",
   "nbconvert_exporter": "python",
   "pygments_lexer": "ipython3",
   "version": "3.7.3"
  }
 },
 "nbformat": 4,
 "nbformat_minor": 2
}
