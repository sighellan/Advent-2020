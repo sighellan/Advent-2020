{
 "cells": [
  {
   "cell_type": "code",
   "execution_count": 1,
   "metadata": {},
   "outputs": [],
   "source": [
    "import numpy as np"
   ]
  },
  {
   "cell_type": "code",
   "execution_count": 2,
   "metadata": {},
   "outputs": [],
   "source": [
    "test_data = [3469259, 13170438]"
   ]
  },
  {
   "cell_type": "code",
   "execution_count": 3,
   "metadata": {},
   "outputs": [
    {
     "name": "stdout",
     "output_type": "stream",
     "text": [
      "11114599 13170438\n",
      "13739269 3469259\n"
     ]
    }
   ],
   "source": [
    "val = 1\n",
    "su_num = 7\n",
    "loop_size = 100000000\n",
    "fnd = 0\n",
    "for ii in range(1,loop_size+1):\n",
    "    val = val * su_num\n",
    "    val = val % 20201227\n",
    "    if val in test_data:\n",
    "        print(ii, val)\n",
    "        fnd += 1\n",
    "    if fnd == 2:\n",
    "        break\n"
   ]
  },
  {
   "cell_type": "code",
   "execution_count": 4,
   "metadata": {},
   "outputs": [
    {
     "name": "stdout",
     "output_type": "stream",
     "text": [
      "Part one solution: 7269858\n"
     ]
    }
   ],
   "source": [
    "val = 1\n",
    "su_num = 3469259 # Value found above\n",
    "loop_size = 11114599 # Value found above\n",
    "for ii in range(1,loop_size+1):\n",
    "    val = val * su_num\n",
    "    val = val % 20201227\n",
    "    if val in test_data:\n",
    "        fnd += 1\n",
    "print('Part one solution: %s' %val)"
   ]
  },
  {
   "cell_type": "code",
   "execution_count": null,
   "metadata": {},
   "outputs": [],
   "source": []
  }
 ],
 "metadata": {
  "kernelspec": {
   "display_name": "gpag",
   "language": "python",
   "name": "gpag"
  },
  "language_info": {
   "codemirror_mode": {
    "name": "ipython",
    "version": 3
   },
   "file_extension": ".py",
   "mimetype": "text/x-python",
   "name": "python",
   "nbconvert_exporter": "python",
   "pygments_lexer": "ipython3",
   "version": "3.7.3"
  }
 },
 "nbformat": 4,
 "nbformat_minor": 2
}
