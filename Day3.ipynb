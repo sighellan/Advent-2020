{
 "cells": [
  {
   "cell_type": "code",
   "execution_count": 1,
   "metadata": {},
   "outputs": [],
   "source": [
    "import numpy as np"
   ]
  },
  {
   "cell_type": "code",
   "execution_count": 2,
   "metadata": {},
   "outputs": [],
   "source": [
    "test_data = []\n",
    "with open('Day3_example.txt') as inp_file:\n",
    "    for row in inp_file:\n",
    "        test_data.append(list(row.split('\\n')[0]))"
   ]
  },
  {
   "cell_type": "code",
   "execution_count": 3,
   "metadata": {},
   "outputs": [],
   "source": [
    "my_data = []\n",
    "with open('Day3.txt') as inp_file:\n",
    "    for row in inp_file:\n",
    "        my_data.append(list(row.split('\\n')[0]))"
   ]
  },
  {
   "cell_type": "code",
   "execution_count": 4,
   "metadata": {},
   "outputs": [],
   "source": [
    "def count_trees(data, angle):\n",
    "    cur_row = 0\n",
    "    trees = 0\n",
    "    num_rows = len(data)\n",
    "    len_row = len(data[0])\n",
    "    x_cor = 0\n",
    "    while cur_row < num_rows-1:\n",
    "        cur_row += angle[0]\n",
    "        x_cor = (x_cor + angle[1]) % len_row\n",
    "        if data[cur_row][x_cor] == '#':\n",
    "            trees += 1\n",
    "    return trees"
   ]
  },
  {
   "cell_type": "markdown",
   "metadata": {},
   "source": [
    "# Part 1"
   ]
  },
  {
   "cell_type": "code",
   "execution_count": 5,
   "metadata": {},
   "outputs": [
    {
     "name": "stdout",
     "output_type": "stream",
     "text": [
      "Part one solution: 234\n"
     ]
    }
   ],
   "source": [
    "print('Part one solution: %s' %(\n",
    "    count_trees(my_data, (1, 3))))"
   ]
  },
  {
   "cell_type": "markdown",
   "metadata": {},
   "source": [
    "# Part 2"
   ]
  },
  {
   "cell_type": "code",
   "execution_count": 6,
   "metadata": {},
   "outputs": [
    {
     "name": "stdout",
     "output_type": "stream",
     "text": [
      "[79, 234, 72, 91, 48]\n",
      "Part two solution: 5813773056\n"
     ]
    }
   ],
   "source": [
    "data = my_data\n",
    "tree_list = []\n",
    "for angle in [(1, 1), (1, 3), (1, 5), (1, 7), (2, 1)]:\n",
    "    tree_list.append(count_trees(data, angle))\n",
    "    \n",
    "print(tree_list)\n",
    "tally = 1\n",
    "for trees in tree_list:\n",
    "    tally = tally * trees\n",
    "print('Part two solution: %s' %tally)"
   ]
  },
  {
   "cell_type": "code",
   "execution_count": null,
   "metadata": {},
   "outputs": [],
   "source": []
  }
 ],
 "metadata": {
  "kernelspec": {
   "display_name": "gpag",
   "language": "python",
   "name": "gpag"
  },
  "language_info": {
   "codemirror_mode": {
    "name": "ipython",
    "version": 3
   },
   "file_extension": ".py",
   "mimetype": "text/x-python",
   "name": "python",
   "nbconvert_exporter": "python",
   "pygments_lexer": "ipython3",
   "version": "3.7.3"
  }
 },
 "nbformat": 4,
 "nbformat_minor": 2
}
