{
 "cells": [
  {
   "cell_type": "code",
   "execution_count": 1,
   "metadata": {},
   "outputs": [],
   "source": [
    "from helper import *\n",
    "import numpy as np\n",
    "import matplotlib.pyplot as plt\n",
    "\n",
    "import copy"
   ]
  },
  {
   "cell_type": "code",
   "execution_count": 2,
   "metadata": {},
   "outputs": [],
   "source": [
    "# Import data\n",
    "exmp_data = read_file('Day20_example.txt')\n",
    "test_data = read_file('Day20.txt')"
   ]
  },
  {
   "cell_type": "code",
   "execution_count": 3,
   "metadata": {},
   "outputs": [],
   "source": [
    "data = test_data\n",
    "\n",
    "tiles = {}\n",
    "\n",
    "cur_tile = []\n",
    "for row in data:\n",
    "    if row[:4] == 'Tile':\n",
    "        name = row.split(' ')[1][:-1]\n",
    "        cur_tile = []\n",
    "    elif row == '':\n",
    "        tiles[name] = np.array(cur_tile)\n",
    "    else:\n",
    "        cur_tile.append([0 if aa == '.' else 1 for aa in row])\n",
    "if cur_tile != []:\n",
    "    tiles[name] = np.array(cur_tile)"
   ]
  },
  {
   "cell_type": "code",
   "execution_count": 4,
   "metadata": {},
   "outputs": [],
   "source": [
    "sides = {}\n",
    "for key in tiles.keys():\n",
    "    tt = tiles[key][0,:]\n",
    "    bb = np.flip(tiles[key][-1,:])\n",
    "    ll = np.flip(tiles[key][:,0])\n",
    "    rr = tiles[key][:,-1]\n",
    "    sides[key] = (tt, rr, bb, ll)"
   ]
  },
  {
   "cell_type": "code",
   "execution_count": 5,
   "metadata": {},
   "outputs": [],
   "source": [
    "corners = []\n",
    "\n",
    "for key in sides.keys():\n",
    "    count = 0\n",
    "    for side in sides[key]:\n",
    "        for ot_key in sides.keys():\n",
    "            if ot_key != key:\n",
    "                for ot_side in sides[ot_key]:\n",
    "                    if np.all(side == ot_side) \\\n",
    "                    or np.all(np.flip(side) == ot_side):\n",
    "                        count += 1\n",
    "    if count == 2:\n",
    "        corners.append(key)"
   ]
  },
  {
   "cell_type": "code",
   "execution_count": 6,
   "metadata": {},
   "outputs": [
    {
     "name": "stdout",
     "output_type": "stream",
     "text": [
      "Part one solution: 140656720229539\n"
     ]
    }
   ],
   "source": [
    "print('Part one solution: %s' %(\n",
    "    int(np.prod(np.array(corners, dtype=float)))))"
   ]
  },
  {
   "cell_type": "markdown",
   "metadata": {},
   "source": [
    "# Part 2"
   ]
  },
  {
   "cell_type": "code",
   "execution_count": 7,
   "metadata": {},
   "outputs": [],
   "source": [
    "corners = []\n",
    "joints = []\n",
    "\n",
    "for key in sides.keys():\n",
    "    count = 0\n",
    "    ii = 0\n",
    "    for side in sides[key]:\n",
    "        for ot_key in sides.keys():\n",
    "            if ot_key != key:\n",
    "                jj = 0\n",
    "                for ot_side in sides[ot_key]:\n",
    "                    if np.all(side == ot_side):\n",
    "                        count += 1\n",
    "                        joints.append((key, ot_key, ii, jj, True))\n",
    "                    elif np.all(np.flip(side) == ot_side):\n",
    "                        count += 1\n",
    "                        joints.append((key, ot_key, ii, jj, False))\n",
    "                    jj += 1\n",
    "        ii += 1\n",
    "    if count == 2:\n",
    "        corners.append(key)"
   ]
  },
  {
   "cell_type": "code",
   "execution_count": 8,
   "metadata": {},
   "outputs": [],
   "source": [
    "def get_new_rot(adj_side, side_ot, cur_rot):\n",
    "    if (adj_side, side_ot) in [(0, 2), (2, 0), (1, 3), (3, 1)]:\n",
    "        return 0#cur_rot\n",
    "    if (adj_side, side_ot) in [(0, 1), (1, 2), (2, 3), (3, 0)]:\n",
    "        return 1#(cur_rot + 1) % 4\n",
    "    if (adj_side, side_ot) in [(1, 0), (2, 1), (3, 2), (0, 3)]:\n",
    "        return 3#(cur_rot - 1) % 4\n",
    "    if adj_side == side_ot:\n",
    "        return 2#(cur_rot + 2) % 4\n",
    "    \n",
    "def get_adj_side(side, cur_rotate, cur_flipped):\n",
    "    rotated = (side + cur_rotate) % 4\n",
    "    if cur_flipped and rotated in [1, 3]:\n",
    "        return (rotated + 2) % 4\n",
    "    return rotated\n",
    "\n",
    "pair_dict = {0:2, 1:3, 2:0, 3:1}"
   ]
  },
  {
   "cell_type": "code",
   "execution_count": 9,
   "metadata": {},
   "outputs": [],
   "source": [
    "\n",
    "key = corners[0]\n",
    "Nt = len(tiles)\n",
    "cur_pos = (Nt//2, Nt//2)\n",
    "rotation_dict = {key: 0}\n",
    "cur_flipped = False\n",
    "cur_rotate = 0\n",
    "tile_pos = np.zeros((Nt, Nt))\n",
    "tile_pos[Nt//2, Nt//2] = key\n",
    "done = []\n",
    "rotation_dict = {key: 0}\n",
    "flip_dict = {key: False}\n",
    "\n",
    "\n",
    "next_pos_dict = {0: (-1, 0),\n",
    "                 1: (0, 1),\n",
    "                 2: (1, 0),\n",
    "                 3: (0, -1)}\n",
    "\n",
    "candidates = [(key, cur_rotate, cur_flipped, cur_pos)]\n",
    "\n",
    "while len(candidates) > 0:\n",
    "    \n",
    "    key, cur_rotate, cur_flipped, cur_pos = candidates.pop()\n",
    "    if key in done:\n",
    "        continue\n",
    "\n",
    "    for tup in joints:\n",
    "        if tup[0] == key and tup[1] not in done:\n",
    "            _, key_ot, side, side_ot, flip = tup\n",
    "            # Calculate next_pos\n",
    "            # take into account flips\n",
    "            adj_side = get_adj_side(side, cur_rotate, cur_flipped)\n",
    "\n",
    "            next_xx = cur_pos[1]+next_pos_dict[adj_side][1]\n",
    "            next_yy = cur_pos[0]+next_pos_dict[adj_side][0]\n",
    "            if float(key_ot) in tile_pos:\n",
    "                prev = np.where(float(key_ot) == tile_pos)\n",
    "                assert(next_xx == prev[1][0])\n",
    "                assert(next_yy == prev[0][0])\n",
    "            assert(tile_pos[next_yy, next_xx] in [0, float(key_ot)])\n",
    "            \n",
    "            tile_pos[next_yy, next_xx] = key_ot\n",
    "            next_flip = cur_flipped ^ flip\n",
    "            next_rot = (pair_dict[adj_side] - side_ot) % 4\n",
    "            if next_flip and (pair_dict[adj_side] in [1, 3]):\n",
    "                next_rot = (next_rot + 2) % 4\n",
    "        \n",
    "            \n",
    "    \n",
    "            rotation_dict[key_ot] = next_rot\n",
    "            flip_dict[key_ot] = next_flip\n",
    "            candidates.append((key_ot, next_rot, next_flip,\n",
    "                              (next_yy, next_xx)))\n",
    "            \n",
    "    done.append(key)\n"
   ]
  },
  {
   "cell_type": "code",
   "execution_count": 10,
   "metadata": {},
   "outputs": [],
   "source": [
    "populated = tile_pos[tile_pos[:,Nt//2] > 0,:][:,tile_pos[Nt//2,:] > 0]"
   ]
  },
  {
   "cell_type": "code",
   "execution_count": 11,
   "metadata": {},
   "outputs": [],
   "source": [
    "num_y, num_x = np.shape(populated)\n",
    "G = 8\n",
    "\n",
    "Dy = num_y*G\n",
    "Dx = num_x*G\n",
    "full_image = np.ones((Dy,Dx))*np.nan\n",
    "full_image\n",
    "\n",
    "for ii in range(num_y):\n",
    "    for jj in range(num_x):\n",
    "        key = str(int(populated[ii,jj]))\n",
    "        cur_rot = rotation_dict[key]\n",
    "        flipped = flip_dict[key]\n",
    "        raw_tile = tiles[key][1:-1,1:-1]\n",
    "        for _ in range(cur_rot):\n",
    "            raw_tile = np.rot90(raw_tile, k=3)\n",
    "        if flipped:\n",
    "            raw_tile = np.flip(raw_tile, 1)\n",
    "        \n",
    "        full_image[G*ii:G*(ii+1),G*jj:G*(jj+1)] \\\n",
    "            = raw_tile"
   ]
  },
  {
   "cell_type": "code",
   "execution_count": 12,
   "metadata": {},
   "outputs": [
    {
     "data": {
      "text/plain": [
       "<matplotlib.image.AxesImage at 0x1af51ad8ba8>"
      ]
     },
     "execution_count": 12,
     "metadata": {},
     "output_type": "execute_result"
    },
    {
     "data": {
      "image/png": "[encoded data removed]",
      "text/plain": [
       "<Figure size 432x288 with 1 Axes>"
      ]
     },
     "metadata": {
      "needs_background": "light"
     },
     "output_type": "display_data"
    }
   ],
   "source": [
    "plt.imshow(full_image)"
   ]
  },
  {
   "cell_type": "code",
   "execution_count": 13,
   "metadata": {},
   "outputs": [],
   "source": [
    "nessie_raw = read_file('nessie.txt')"
   ]
  },
  {
   "cell_type": "code",
   "execution_count": 14,
   "metadata": {},
   "outputs": [],
   "source": [
    "nessie = []\n",
    "for row in nessie_raw:\n",
    "    nessie.append([0 if aa == ' ' else 1 for aa in row])\n",
    "nessie = np.array(nessie)\n",
    "h_ness, w_ness = np.shape(nessie)"
   ]
  },
  {
   "cell_type": "code",
   "execution_count": 15,
   "metadata": {},
   "outputs": [
    {
     "data": {
      "text/plain": [
       "<matplotlib.image.AxesImage at 0x1af51b88198>"
      ]
     },
     "execution_count": 15,
     "metadata": {},
     "output_type": "execute_result"
    },
    {
     "data": {
      "image/png": "[encoded data removed]",
      "text/plain": [
       "<Figure size 432x288 with 1 Axes>"
      ]
     },
     "metadata": {
      "needs_background": "light"
     },
     "output_type": "display_data"
    }
   ],
   "source": [
    "plt.imshow(nessie)"
   ]
  },
  {
   "cell_type": "code",
   "execution_count": 16,
   "metadata": {},
   "outputs": [
    {
     "name": "stdout",
     "output_type": "stream",
     "text": [
      "# Nessies: 37\n"
     ]
    }
   ],
   "source": [
    "max_found = 0\n",
    "rot_image = np.flip(copy.deepcopy(full_image), 0)\n",
    "for _ in range(4):\n",
    "    rot_image = np.rot90(rot_image, k=1)\n",
    "\n",
    "    num_found = 0\n",
    "    for h_start in range(0, Dy-h_ness):\n",
    "        for w_start in range(0, Dx-w_ness):\n",
    "            snip = rot_image[h_start:h_start+h_ness,w_start:w_start+w_ness]\n",
    "            ma_snip = np.ma.masked_array(snip, mask=(nessie==0))\n",
    "            if np.all(ma_snip == nessie):\n",
    "                num_found += 1\n",
    "    \n",
    "    max_found = max(max_found, num_found)\n",
    "print('# Nessies: %s' %max_found)"
   ]
  },
  {
   "cell_type": "code",
   "execution_count": 17,
   "metadata": {},
   "outputs": [
    {
     "name": "stdout",
     "output_type": "stream",
     "text": [
      "Part two solution: 1885\n"
     ]
    }
   ],
   "source": [
    "score = np.count_nonzero(rot_image) - np.count_nonzero(nessie)*max_found\n",
    "print('Part two solution: %s' %score)"
   ]
  },
  {
   "cell_type": "code",
   "execution_count": null,
   "metadata": {},
   "outputs": [],
   "source": []
  }
 ],
 "metadata": {
  "kernelspec": {
   "display_name": "gpag",
   "language": "python",
   "name": "gpag"
  },
  "language_info": {
   "codemirror_mode": {
    "name": "ipython",
    "version": 3
   },
   "file_extension": ".py",
   "mimetype": "text/x-python",
   "name": "python",
   "nbconvert_exporter": "python",
   "pygments_lexer": "ipython3",
   "version": "3.7.3"
  }
 },
 "nbformat": 4,
 "nbformat_minor": 2
}
