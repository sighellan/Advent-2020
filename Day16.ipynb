{
 "cells": [
  {
   "cell_type": "code",
   "execution_count": 1,
   "metadata": {},
   "outputs": [],
   "source": [
    "import numpy as np\n",
    "from helper import *"
   ]
  },
  {
   "cell_type": "code",
   "execution_count": 2,
   "metadata": {},
   "outputs": [],
   "source": [
    "# Import data\n",
    "exmp_data = read_file('Day16_example.txt')\n",
    "exmp_datab = read_file('Day16_exampleb.txt')\n",
    "test_data = read_file('Day16.txt')"
   ]
  },
  {
   "cell_type": "markdown",
   "metadata": {},
   "source": [
    "# Part one"
   ]
  },
  {
   "cell_type": "code",
   "execution_count": 3,
   "metadata": {},
   "outputs": [],
   "source": [
    "data = test_data\n",
    "\n",
    "rules = []\n",
    "rule_names = []\n",
    "mine = []\n",
    "nearby = []\n",
    "parsing_rules = True\n",
    "your = False\n",
    "for row in data:\n",
    "    if row == '' or row[:6] == 'nearby':\n",
    "        continue\n",
    "    if row.split(' ')[0] == 'your':\n",
    "        parsing_rules = False\n",
    "    elif parsing_rules:\n",
    "        rules.append(row.split(':')[1].split(' ')[1:])\n",
    "        rule_names.append(row.split(':')[0])\n",
    "    elif not your:\n",
    "        your = True\n",
    "        mine = [int(aa) for aa in row.split(',')]\n",
    "    else:\n",
    "        nearby.append([int(aa) for aa in row.split(',')])\n",
    "\n",
    "nearby = np.array(nearby)"
   ]
  },
  {
   "cell_type": "code",
   "execution_count": 4,
   "metadata": {},
   "outputs": [],
   "source": [
    "max_seen = max(np.max(nearby), np.max(mine))"
   ]
  },
  {
   "cell_type": "code",
   "execution_count": 5,
   "metadata": {},
   "outputs": [],
   "source": [
    "vals = np.zeros(max_seen+1)\n",
    "for rule in rules:\n",
    "    for rr in rule:\n",
    "        if rr == 'or':\n",
    "            continue\n",
    "        rr_min, rr_max = [int(aa) for aa in rr.split('-')]\n",
    "        vals[rr_min:rr_max+1] = 1"
   ]
  },
  {
   "cell_type": "code",
   "execution_count": 6,
   "metadata": {},
   "outputs": [],
   "source": [
    "tally = 0\n",
    "for nn in nearby:\n",
    "    for mm in nn:\n",
    "        if not vals[mm]:\n",
    "            tally += mm\n",
    "print('Part one solution: %s' %tally)"
   ]
  },
  {
   "cell_type": "markdown",
   "metadata": {},
   "source": [
    "# Part two"
   ]
  },
  {
   "cell_type": "code",
   "execution_count": 7,
   "metadata": {},
   "outputs": [],
   "source": [
    "valid = []\n",
    "for nn in nearby:\n",
    "    vv = True\n",
    "    for mm in nn:\n",
    "        if not vals[mm]:\n",
    "            vv = False\n",
    "            break\n",
    "    if vv:\n",
    "        valid.append(nn)\n",
    "            \n",
    "valid = np.array(valid)"
   ]
  },
  {
   "cell_type": "code",
   "execution_count": 8,
   "metadata": {},
   "outputs": [],
   "source": [
    "R = len(rules)"
   ]
  },
  {
   "cell_type": "code",
   "execution_count": 9,
   "metadata": {},
   "outputs": [],
   "source": [
    "vals = np.zeros((R, max_seen+1))\n",
    "ii = 0\n",
    "for rule in rules:\n",
    "    for rr in rule:\n",
    "        if rr == 'or':\n",
    "            continue\n",
    "        rr_min, rr_max = [int(aa) for aa in rr.split('-')]\n",
    "        vals[ii, rr_min:rr_max+1] = 1\n",
    "    ii += 1"
   ]
  },
  {
   "cell_type": "code",
   "execution_count": 10,
   "metadata": {},
   "outputs": [],
   "source": [
    "rule_inds = np.ones((len(rules), len(rules)))\n",
    "## (rule_num, tick_idx)\n",
    "for ii in range(len(rules)):\n",
    "    for jj in range(len(valid)):\n",
    "        for kk in range(len(valid[0])):\n",
    "            mm = valid[jj,kk]\n",
    "            if not vals[ii, mm]:\n",
    "                rule_inds[ii, kk] = 0\n",
    "    "
   ]
  },
  {
   "cell_type": "code",
   "execution_count": 11,
   "metadata": {},
   "outputs": [],
   "source": [
    "while(np.sum(rule_inds) > R):\n",
    "    for ii in range(R):\n",
    "        if np.sum(rule_inds[ii,:]) == 1:\n",
    "            idx = np.argmax(rule_inds[ii,:])\n",
    "            for jj in range(R):\n",
    "                if ii != jj:\n",
    "                    rule_inds[jj, idx] = 0"
   ]
  },
  {
   "cell_type": "code",
   "execution_count": 12,
   "metadata": {},
   "outputs": [],
   "source": [
    "tally = 1\n",
    "for ii in range(6):\n",
    "    idx = np.argmax(rule_inds[ii,:])\n",
    "    tally *= mine[idx]"
   ]
  },
  {
   "cell_type": "code",
   "execution_count": 13,
   "metadata": {},
   "outputs": [
    {
     "name": "stdout",
     "output_type": "stream",
     "text": [
      "Part two solution: 2587271823407\n"
     ]
    }
   ],
   "source": [
    "print('Part two solution: %s' %tally)"
   ]
  },
  {
   "cell_type": "code",
   "execution_count": null,
   "metadata": {},
   "outputs": [],
   "source": []
  }
 ],
 "metadata": {
  "kernelspec": {
   "display_name": "gpag",
   "language": "python",
   "name": "gpag"
  },
  "language_info": {
   "codemirror_mode": {
    "name": "ipython",
    "version": 3
   },
   "file_extension": ".py",
   "mimetype": "text/x-python",
   "name": "python",
   "nbconvert_exporter": "python",
   "pygments_lexer": "ipython3",
   "version": "3.7.3"
  }
 },
 "nbformat": 4,
 "nbformat_minor": 2
}
