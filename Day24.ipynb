{
 "cells": [
  {
   "cell_type": "code",
   "execution_count": 1,
   "metadata": {},
   "outputs": [],
   "source": [
    "from helper import *\n",
    "import numpy as np\n",
    "import copy"
   ]
  },
  {
   "cell_type": "markdown",
   "metadata": {},
   "source": [
    "# Part one"
   ]
  },
  {
   "cell_type": "code",
   "execution_count": 2,
   "metadata": {},
   "outputs": [],
   "source": [
    "def get_list(list_str):\n",
    "    dir_list = []\n",
    "    ii = 0\n",
    "    while(ii < len(list_str)):\n",
    "        if list_str[ii] in ['e', 'w']:\n",
    "            dir_list.append(list_str[ii])\n",
    "            ii += 1\n",
    "        else:\n",
    "            dir_list.append(list_str[ii:ii+2])\n",
    "            ii += 2\n",
    "    return dir_list"
   ]
  },
  {
   "cell_type": "code",
   "execution_count": 3,
   "metadata": {},
   "outputs": [],
   "source": [
    "def simplify_str(dir_list):\n",
    "    dir_dict = {'e': 0, 'w': 0, 'se': 0, 'sw': 0, 'ne': 0, 'nw': 0}\n",
    "    for dd in dir_list:\n",
    "        dir_dict[dd] += 1\n",
    "    e_simp = min(dir_dict['se'], dir_dict['ne'])\n",
    "    dir_dict['se'] -= e_simp\n",
    "    dir_dict['ne'] -= e_simp\n",
    "    dir_dict['e'] += e_simp\n",
    "    w_simp = min(dir_dict['sw'], dir_dict['nw'])\n",
    "    dir_dict['sw'] -= w_simp\n",
    "    dir_dict['nw'] -= w_simp\n",
    "    dir_dict['w'] += w_simp\n",
    "    prev_sum = np.inf\n",
    "    \n",
    "    while(np.sum(dir_dict.values) != prev_sum):\n",
    "        prev_sum = np.sum(dir_dict.values)\n",
    "        if dir_dict['e'] >= dir_dict['w']:\n",
    "            dir_dict['e'] -= dir_dict['w']\n",
    "            dir_dict['w'] = 0\n",
    "        else:\n",
    "            dir_dict['w'] -= dir_dict['e']\n",
    "            dir_dict['e'] = 0\n",
    "\n",
    "        if dir_dict['ne'] >= dir_dict['sw']:\n",
    "            dir_dict['ne'] -= dir_dict['sw']\n",
    "            dir_dict['sw'] = 0\n",
    "        else:\n",
    "            dir_dict['sw'] -= dir_dict['ne']\n",
    "            dir_dict['ne'] = 0\n",
    "\n",
    "        if dir_dict['se'] >= dir_dict['nw']:\n",
    "            dir_dict['se'] -= dir_dict['nw']\n",
    "            dir_dict['nw'] = 0\n",
    "        else:\n",
    "            dir_dict['nw'] -= dir_dict['se']\n",
    "            dir_dict['se'] = 0\n",
    "            \n",
    "        dir_dict = merge(ing1='e', ing2='sw', res='se', dir_dict=dir_dict)\n",
    "        dir_dict = merge(ing1='e', ing2='nw', res='ne', dir_dict=dir_dict)\n",
    "        dir_dict = merge(ing1='w', ing2='se', res='sw', dir_dict=dir_dict)\n",
    "        dir_dict = merge(ing1='w', ing2='ne', res='nw', dir_dict=dir_dict)\n",
    "    \n",
    "    # Reconstruct simplified list\n",
    "    simp_list = []\n",
    "    for dd in dir_dict.keys():\n",
    "        simp_list = simp_list + [dd]*dir_dict[dd]\n",
    "    return sorted(simp_list)      "
   ]
  },
  {
   "cell_type": "code",
   "execution_count": 4,
   "metadata": {},
   "outputs": [],
   "source": [
    "def merge(ing1, ing2, res, dir_dict):\n",
    "    min_ing_12 = min(dir_dict[ing1], dir_dict[ing2])\n",
    "    if min_ing_12 > 0:\n",
    "        dir_dict[res] += min_ing_12\n",
    "        dir_dict[ing1] -= min_ing_12\n",
    "        dir_dict[ing2] -= min_ing_12\n",
    "    return dir_dict"
   ]
  },
  {
   "cell_type": "code",
   "execution_count": 5,
   "metadata": {},
   "outputs": [],
   "source": [
    "exmp_data = read_file('Day24_example.txt')\n",
    "test_data = read_file('Day24.txt')"
   ]
  },
  {
   "cell_type": "code",
   "execution_count": 6,
   "metadata": {},
   "outputs": [],
   "source": [
    "data = test_data\n",
    "\n",
    "simp_rows = []\n",
    "for row in data:\n",
    "    lst = get_list(row)\n",
    "    simp_rows.append(simplify_str(lst))"
   ]
  },
  {
   "cell_type": "code",
   "execution_count": 7,
   "metadata": {},
   "outputs": [],
   "source": [
    "lsts, counts = np.unique(simp_rows, return_counts=True)"
   ]
  },
  {
   "cell_type": "code",
   "execution_count": 8,
   "metadata": {},
   "outputs": [],
   "source": [
    "def get_str(dir_list):\n",
    "    lst_str = ''\n",
    "    for ee in dir_list:\n",
    "        lst_str += ee\n",
    "    return lst_str"
   ]
  },
  {
   "cell_type": "code",
   "execution_count": 9,
   "metadata": {},
   "outputs": [
    {
     "name": "stdout",
     "output_type": "stream",
     "text": [
      "Part one solution: 289\n"
     ]
    }
   ],
   "source": [
    "score = 0\n",
    "dir_blacks = []\n",
    "for ii in range(len(lsts)):\n",
    "    if counts[ii] % 2 != 0:\n",
    "        score += 1\n",
    "        dir_blacks.append(get_str(lsts[ii]))\n",
    "#     print(counts[ii], lsts[ii])\n",
    "    \n",
    "print('Part one solution: %s' %score)"
   ]
  },
  {
   "cell_type": "markdown",
   "metadata": {},
   "source": [
    "# Part two"
   ]
  },
  {
   "cell_type": "code",
   "execution_count": 10,
   "metadata": {},
   "outputs": [],
   "source": [
    "def iterate(dir_blacks):\n",
    "    black_nb_counts = {}\n",
    "    for cur_str in dir_blacks:\n",
    "        cur_tile = get_list(cur_str)\n",
    "        for dd in ['e', 'w', 'se', 'sw', 'ne', 'nw']:\n",
    "            dd_tile = sorted(cur_tile +[dd])\n",
    "            dd_str = get_str(simplify_str(dd_tile))\n",
    "            if dd_str in black_nb_counts.keys():\n",
    "                black_nb_counts[dd_str] += 1\n",
    "            else:\n",
    "                black_nb_counts[dd_str] = 1\n",
    "    return black_nb_counts"
   ]
  },
  {
   "cell_type": "code",
   "execution_count": 11,
   "metadata": {},
   "outputs": [
    {
     "name": "stdout",
     "output_type": "stream",
     "text": [
      "1 240\n",
      "2 290\n",
      "3 269\n",
      "4 295\n",
      "5 273\n",
      "6 321\n",
      "7 346\n",
      "8 356\n",
      "9 363\n",
      "10 385\n",
      "11 421\n",
      "12 435\n",
      "13 431\n",
      "14 465\n",
      "15 493\n",
      "16 515\n",
      "17 516\n",
      "18 494\n",
      "19 551\n",
      "20 594\n",
      "21 605\n",
      "22 622\n",
      "23 622\n",
      "24 663\n",
      "25 711\n",
      "26 735\n",
      "27 777\n",
      "28 798\n",
      "29 798\n",
      "30 854\n",
      "31 819\n",
      "32 934\n",
      "33 884\n",
      "34 869\n",
      "35 956\n",
      "36 914\n",
      "37 983\n",
      "38 1020\n",
      "39 1081\n",
      "40 1068\n",
      "41 1104\n",
      "42 1179\n",
      "43 1156\n",
      "44 1242\n",
      "45 1317\n",
      "46 1188\n",
      "47 1354\n",
      "48 1266\n",
      "49 1348\n",
      "50 1393\n",
      "51 1417\n",
      "52 1477\n",
      "53 1493\n",
      "54 1458\n",
      "55 1594\n",
      "56 1564\n",
      "57 1714\n",
      "58 1703\n",
      "59 1721\n",
      "60 1688\n",
      "61 1813\n",
      "62 1838\n",
      "63 1914\n",
      "64 1906\n",
      "65 1970\n",
      "66 1909\n",
      "67 1984\n",
      "68 2073\n",
      "69 2215\n",
      "70 2102\n",
      "71 2213\n",
      "72 2252\n",
      "73 2285\n",
      "74 2286\n",
      "75 2363\n",
      "76 2347\n",
      "77 2425\n",
      "78 2405\n",
      "79 2588\n",
      "80 2533\n",
      "81 2736\n",
      "82 2666\n",
      "83 2752\n",
      "84 2756\n",
      "85 2804\n",
      "86 2888\n",
      "87 2924\n",
      "88 3027\n",
      "89 2956\n",
      "90 3096\n",
      "91 3044\n",
      "92 3149\n",
      "93 3255\n",
      "94 3308\n",
      "95 3469\n",
      "96 3385\n",
      "97 3421\n",
      "98 3519\n",
      "99 3547\n",
      "100 3551\n"
     ]
    }
   ],
   "source": [
    "use_dir_blacks = copy.deepcopy(dir_blacks)\n",
    "\n",
    "for ii in range(1, 100+1):\n",
    "    black_nb_counts = iterate(use_dir_blacks)\n",
    "    new_dir_blacks = []\n",
    "    for key, val in black_nb_counts.items():\n",
    "        if key in use_dir_blacks: # was black\n",
    "            if val in [1, 2]:\n",
    "                new_dir_blacks.append(key)\n",
    "        else: # was white\n",
    "            if val == 2:\n",
    "                new_dir_blacks.append(key)\n",
    "    use_dir_blacks = new_dir_blacks\n",
    "    print(ii, len(use_dir_blacks))"
   ]
  },
  {
   "cell_type": "code",
   "execution_count": 12,
   "metadata": {},
   "outputs": [
    {
     "name": "stdout",
     "output_type": "stream",
     "text": [
      "Part two solution: 3551\n"
     ]
    }
   ],
   "source": [
    "print('Part two solution: %s' %len(use_dir_blacks))"
   ]
  },
  {
   "cell_type": "code",
   "execution_count": null,
   "metadata": {},
   "outputs": [],
   "source": []
  }
 ],
 "metadata": {
  "kernelspec": {
   "display_name": "gpag",
   "language": "python",
   "name": "gpag"
  },
  "language_info": {
   "codemirror_mode": {
    "name": "ipython",
    "version": 3
   },
   "file_extension": ".py",
   "mimetype": "text/x-python",
   "name": "python",
   "nbconvert_exporter": "python",
   "pygments_lexer": "ipython3",
   "version": "3.7.3"
  }
 },
 "nbformat": 4,
 "nbformat_minor": 2
}
