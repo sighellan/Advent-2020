{
 "cells": [
  {
   "cell_type": "code",
   "execution_count": 1,
   "metadata": {},
   "outputs": [],
   "source": [
    "import numpy\n",
    "import csv"
   ]
  },
  {
   "cell_type": "markdown",
   "metadata": {},
   "source": [
    "# Part 1"
   ]
  },
  {
   "cell_type": "code",
   "execution_count": 2,
   "metadata": {},
   "outputs": [],
   "source": [
    "data = []\n",
    "with open('Day1.txt', newline='\\n') as csvfile:\n",
    "    filereader = csv.reader(csvfile, delimiter = ',')\n",
    "    for row in filereader:\n",
    "        data.append(int(row[0]))"
   ]
  },
  {
   "cell_type": "code",
   "execution_count": 3,
   "metadata": {},
   "outputs": [
    {
     "name": "stdout",
     "output_type": "stream",
     "text": [
      "1371 649\n",
      "Solution part one: 889779\n"
     ]
    }
   ],
   "source": [
    "for ee in data:\n",
    "    ee_match = 2020-ee\n",
    "    if ee_match in data:\n",
    "        print(ee, ee_match)\n",
    "        print('Solution part one: %s' %(ee*ee_match))\n",
    "        break"
   ]
  },
  {
   "cell_type": "markdown",
   "metadata": {},
   "source": [
    "# Part 2"
   ]
  },
  {
   "cell_type": "code",
   "execution_count": 4,
   "metadata": {},
   "outputs": [
    {
     "name": "stdout",
     "output_type": "stream",
     "text": [
      "398 1494 128\n",
      "Solution part two: 76110336\n"
     ]
    }
   ],
   "source": [
    "for ii in range(len(data)):\n",
    "    for jj in range(ii+1, len(data)):\n",
    "        for kk in range(jj+1, len(data)):\n",
    "            if data[ii] + data[jj] + data[kk] == 2020:\n",
    "                print(data[ii], data[jj], data[kk])\n",
    "                print('Solution part two: %s' %(\n",
    "                    data[ii]*data[jj]*data[kk]))"
   ]
  },
  {
   "cell_type": "code",
   "execution_count": null,
   "metadata": {},
   "outputs": [],
   "source": []
  }
 ],
 "metadata": {
  "kernelspec": {
   "display_name": "gpag",
   "language": "python",
   "name": "gpag"
  },
  "language_info": {
   "codemirror_mode": {
    "name": "ipython",
    "version": 3
   },
   "file_extension": ".py",
   "mimetype": "text/x-python",
   "name": "python",
   "nbconvert_exporter": "python",
   "pygments_lexer": "ipython3",
   "version": "3.7.3"
  }
 },
 "nbformat": 4,
 "nbformat_minor": 2
}
