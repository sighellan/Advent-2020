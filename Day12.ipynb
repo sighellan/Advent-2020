{
 "cells": [
  {
   "cell_type": "code",
   "execution_count": 1,
   "metadata": {},
   "outputs": [],
   "source": [
    "from helper import *\n",
    "import numpy as np"
   ]
  },
  {
   "cell_type": "code",
   "execution_count": 2,
   "metadata": {},
   "outputs": [],
   "source": [
    "# Import data\n",
    "exp_data = read_file('Day12_example.txt')\n",
    "test_data = read_file('Day12.txt')"
   ]
  },
  {
   "cell_type": "markdown",
   "metadata": {},
   "source": [
    "# Part 1"
   ]
  },
  {
   "cell_type": "code",
   "execution_count": 3,
   "metadata": {},
   "outputs": [],
   "source": [
    "def turn(dd, com, dist):\n",
    "    directions = np.array(['E', 'N', 'W', 'S'])\n",
    "    cur = np.where(dd == directions)[0][0]\n",
    "    if com == 'L':\n",
    "        return directions[(cur+dist//90)%4]\n",
    "    else:\n",
    "        return directions[(cur-dist//90)%4]\n",
    "\n",
    "def step(row, lat, lon, dd):\n",
    "    com, dist = row[0], int(row[1:])\n",
    "    if com == 'F':\n",
    "        com = dd\n",
    "    elif com == 'L' or com == 'R':\n",
    "        dd = turn(dd, com, dist)\n",
    "        \n",
    "    if com == 'N':\n",
    "        lat += dist\n",
    "    elif com == 'S':\n",
    "        lat -= dist\n",
    "    elif com == 'E':\n",
    "        lon += dist\n",
    "    elif com == 'W':\n",
    "        lon -= dist\n",
    "    return lat, lon, dd"
   ]
  },
  {
   "cell_type": "code",
   "execution_count": 4,
   "metadata": {},
   "outputs": [
    {
     "name": "stdout",
     "output_type": "stream",
     "text": [
      "Part one solution: 1645\n"
     ]
    }
   ],
   "source": [
    "lat, lon, dd = 0, 0, 'E'\n",
    "for row in test_data:\n",
    "    lat, lon, dd = step(row, lat, lon, dd)\n",
    "print('Part one solution: %s' %(np.abs(lat) + np.abs(lon)))"
   ]
  },
  {
   "cell_type": "markdown",
   "metadata": {},
   "source": [
    "# Part 2"
   ]
  },
  {
   "cell_type": "code",
   "execution_count": 5,
   "metadata": {},
   "outputs": [],
   "source": [
    "def turn2(com, dist, wwlat, wwlon):\n",
    "    assert dist in [90, 180, 270]\n",
    "    if dist == 270 and com == 'R':\n",
    "        com, dist = 'L', 90\n",
    "    elif dist == 270 and com == 'L':\n",
    "        com, dist = 'R', 90\n",
    "    elif dist == 180:\n",
    "        com = 'R'\n",
    "    # Pos: R90, L90, R180\n",
    "    if dist == 180:\n",
    "        wwlat, wwlon = -wwlat, -wwlon\n",
    "    elif dist == 90 and com == 'R':\n",
    "        wwlat, wwlon = -wwlon, wwlat\n",
    "    elif dist == 90 and com == 'L':\n",
    "        wwlat, wwlon = wwlon, -wwlat\n",
    "    else:\n",
    "        raise ValueError\n",
    "    return wwlat, wwlon\n",
    "\n",
    "def step2(row, sslat, sslon, wwlat, wwlon):\n",
    "    com, dist = row[0], int(row[1:])\n",
    "    if com == 'F':\n",
    "        sslat, sslon = sslat+dist*wwlat, sslon+dist*wwlon\n",
    "    elif com == 'L' or com == 'R':\n",
    "        wwlat, wwlon = turn2(com, dist, wwlat, wwlon)\n",
    "        \n",
    "    if com == 'N':\n",
    "        wwlat += dist\n",
    "    elif com == 'S':\n",
    "        wwlat -= dist\n",
    "    elif com == 'E':\n",
    "        wwlon += dist\n",
    "    elif com == 'W':\n",
    "        wwlon -= dist\n",
    "    return sslat, sslon, wwlat, wwlon"
   ]
  },
  {
   "cell_type": "code",
   "execution_count": 6,
   "metadata": {},
   "outputs": [
    {
     "name": "stdout",
     "output_type": "stream",
     "text": [
      "Part two solution: 35292\n"
     ]
    }
   ],
   "source": [
    "sslat, sslon, wwlat, wwlon = 0, 0, 1, 10\n",
    "for row in test_data:\n",
    "    sslat, sslon, wwlat, wwlon = step2(row, sslat, sslon, wwlat, wwlon)\n",
    "#     print(sslat, sslon, wwlat, wwlon)\n",
    "print('Part two solution: %s' %(np.abs(sslat) + np.abs(sslon)))"
   ]
  },
  {
   "cell_type": "code",
   "execution_count": null,
   "metadata": {},
   "outputs": [],
   "source": []
  }
 ],
 "metadata": {
  "kernelspec": {
   "display_name": "gpag",
   "language": "python",
   "name": "gpag"
  },
  "language_info": {
   "codemirror_mode": {
    "name": "ipython",
    "version": 3
   },
   "file_extension": ".py",
   "mimetype": "text/x-python",
   "name": "python",
   "nbconvert_exporter": "python",
   "pygments_lexer": "ipython3",
   "version": "3.7.3"
  }
 },
 "nbformat": 4,
 "nbformat_minor": 2
}
