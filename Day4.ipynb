{
 "cells": [
  {
   "cell_type": "code",
   "execution_count": 1,
   "metadata": {},
   "outputs": [],
   "source": [
    "import numpy as np"
   ]
  },
  {
   "cell_type": "code",
   "execution_count": 2,
   "metadata": {},
   "outputs": [],
   "source": [
    "\n",
    "def get_data(file_name):\n",
    "    data_example = []\n",
    "    with open(file_name) as inp_file:\n",
    "        cur_dict = {}\n",
    "        for row in inp_file:\n",
    "            if len(row) < 3:\n",
    "                data_example.append(cur_dict)\n",
    "                cur_dict = {}\n",
    "                continue\n",
    "\n",
    "            for pair in row.split(' '):\n",
    "                pair_split = pair.split(':')\n",
    "                key = pair_split[0]\n",
    "                value = pair_split[1]\n",
    "                if value[-1:] == '\\n':\n",
    "                    cur_dict[key] = value[:-1]\n",
    "                else:\n",
    "                    cur_dict[key] = value\n",
    "        if len(cur_dict) > 0:\n",
    "            data_example.append(cur_dict)\n",
    "    return data_example"
   ]
  },
  {
   "cell_type": "code",
   "execution_count": 3,
   "metadata": {},
   "outputs": [],
   "source": [
    "data_example = get_data('Day4_example.txt')\n",
    "data_test = get_data('Day4.txt')\n",
    "data_valid = get_data('Day4_valid.txt')\n",
    "data_invalid = get_data('Day4_invalid.txt')"
   ]
  },
  {
   "cell_type": "code",
   "execution_count": 4,
   "metadata": {},
   "outputs": [],
   "source": [
    "data = data_test\n",
    "num_valid = 0\n",
    "required = {'ecl', 'pid', 'eyr', 'hcl', 'byr', 'iyr', 'hgt'}\n",
    "for cred in data:\n",
    "    if required.issubset(cred.keys()):\n",
    "        num_valid += 1"
   ]
  },
  {
   "cell_type": "code",
   "execution_count": 5,
   "metadata": {},
   "outputs": [
    {
     "name": "stdout",
     "output_type": "stream",
     "text": [
      "Part one solution: 202\n"
     ]
    }
   ],
   "source": [
    "print('Part one solution: %s' %num_valid)"
   ]
  },
  {
   "cell_type": "code",
   "execution_count": 6,
   "metadata": {},
   "outputs": [],
   "source": [
    "data = data_test\n",
    "num_valid = 0\n",
    "required = {'ecl', 'pid', 'eyr', 'hcl', 'byr', 'iyr', 'hgt'}\n",
    "hair_set = {'0', '1', '2', '3', '4', '5', '6', '7', '8', '9',\n",
    "                   'a', 'b', 'c', 'd', 'e', 'f'}\n",
    "eye_set = {'amb', 'blu', 'brn', 'gry', 'grn', 'hzl', 'oth'}\n",
    "\n",
    "for cred in data:\n",
    "    try:\n",
    "        # Have all the required fields\n",
    "        assert required.issubset(cred.keys())\n",
    "        # Birth year is valid\n",
    "        assert not (int(cred['byr']) < 1920 or int(cred['byr']) > 2002)\n",
    "        # Issue year is valid\n",
    "        assert not (int(cred['iyr']) < 2010 or int(cred['iyr']) > 2020)\n",
    "        # Expiry year is valid\n",
    "        assert not (int(cred['eyr']) < 2020 or int(cred['eyr']) > 2030)\n",
    "        # Height is valid\n",
    "        height = int(cred['hgt'][:-2])\n",
    "        if cred['hgt'][-2:] == 'cm':\n",
    "            assert height >= 150 and height <= 193\n",
    "        elif cred['hgt'][-2:] == 'in':\n",
    "            assert height >= 59 and height <= 76\n",
    "        else:\n",
    "            assert False\n",
    "        # Eye colour is valid\n",
    "        assert cred['ecl'] in eye_set\n",
    "        # Passport ID is valid\n",
    "        assert len(cred['pid']) == 9\n",
    "        int(cred['pid'])\n",
    "        # Hair colour is valid\n",
    "        assert cred['hcl'][0] == '#'\n",
    "        assert len(cred['hcl']) == 7\n",
    "        assert set(cred['hcl'][1:]).issubset(hair_set)\n",
    "        \n",
    "        # If all tests pass, increment tally\n",
    "        num_valid += 1\n",
    "    except:\n",
    "        continue"
   ]
  },
  {
   "cell_type": "code",
   "execution_count": 7,
   "metadata": {},
   "outputs": [
    {
     "name": "stdout",
     "output_type": "stream",
     "text": [
      "Part two solution: 137\n"
     ]
    }
   ],
   "source": [
    "print('Part two solution: %s' %num_valid)"
   ]
  }
 ],
 "metadata": {
  "kernelspec": {
   "display_name": "gpag",
   "language": "python",
   "name": "gpag"
  },
  "language_info": {
   "codemirror_mode": {
    "name": "ipython",
    "version": 3
   },
   "file_extension": ".py",
   "mimetype": "text/x-python",
   "name": "python",
   "nbconvert_exporter": "python",
   "pygments_lexer": "ipython3",
   "version": "3.7.3"
  }
 },
 "nbformat": 4,
 "nbformat_minor": 2
}
