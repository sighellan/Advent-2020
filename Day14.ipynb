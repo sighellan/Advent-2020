{
 "cells": [
  {
   "cell_type": "code",
   "execution_count": 1,
   "metadata": {},
   "outputs": [],
   "source": [
    "from helper import *\n",
    "import numpy as np"
   ]
  },
  {
   "cell_type": "code",
   "execution_count": 2,
   "metadata": {},
   "outputs": [],
   "source": [
    "# Import data\n",
    "exmp_data = read_file('Day14_example.txt')\n",
    "test_data = read_file('Day14.txt')"
   ]
  },
  {
   "cell_type": "markdown",
   "metadata": {},
   "source": [
    "# Part one"
   ]
  },
  {
   "cell_type": "code",
   "execution_count": 3,
   "metadata": {},
   "outputs": [],
   "source": [
    "def apply_mask(mask, num):\n",
    "    binary = format(num, '#038b')[2:]\n",
    "    new_num = []\n",
    "    for ii in range(len(mask)):\n",
    "        if mask[ii] == 'X':\n",
    "            new_num.append(binary[ii])\n",
    "        else:\n",
    "            new_num.append(mask[ii])\n",
    "    new_num = ''.join(new_num)\n",
    "    return int('0b'+new_num, 2)\n",
    "        "
   ]
  },
  {
   "cell_type": "code",
   "execution_count": 4,
   "metadata": {},
   "outputs": [],
   "source": [
    "data = test_data\n",
    "\n",
    "mem = {}\n",
    "for row in data:\n",
    "    if row[:3] == 'mas':\n",
    "        mask = row.split(' ')[2]\n",
    "    else:\n",
    "        mem_loc = row.split('[')[1].split(']')[0]\n",
    "        num = int(row.split(' ')[2])\n",
    "        masked_num = apply_mask(mask, num)\n",
    "        mem[mem_loc] = masked_num\n",
    "        "
   ]
  },
  {
   "cell_type": "code",
   "execution_count": 5,
   "metadata": {},
   "outputs": [
    {
     "name": "stdout",
     "output_type": "stream",
     "text": [
      "Part one solution: 6386593869035\n"
     ]
    }
   ],
   "source": [
    "print('Part one solution: %s' %np.sum(list(mem.values())))"
   ]
  },
  {
   "cell_type": "markdown",
   "metadata": {},
   "source": [
    "# Part 2"
   ]
  },
  {
   "cell_type": "code",
   "execution_count": 6,
   "metadata": {},
   "outputs": [],
   "source": [
    "def apply_mask_v2(mask, address):\n",
    "    binary = format(address, '#038b')[2:]\n",
    "    new_address = []\n",
    "    for ii in range(len(mask)):\n",
    "        if mask[ii] == '0':\n",
    "            new_address.append(binary[ii])\n",
    "        else:\n",
    "            new_address.append(mask[ii])\n",
    "    address_combinations = [[]]\n",
    "    for el in new_address:\n",
    "        tmp_combinations = []\n",
    "        if el != 'X':\n",
    "            for aa in address_combinations:\n",
    "                tmp_combinations.append(aa+[el])\n",
    "        else:\n",
    "            for aa in address_combinations:\n",
    "                tmp_combinations.append(aa+['0'])\n",
    "                tmp_combinations.append(aa+['1'])\n",
    "        address_combinations = tmp_combinations\n",
    "\n",
    "    address_combinations = [int('0b'+''.join(aa), 2) for aa in address_combinations]\n",
    "    return address_combinations"
   ]
  },
  {
   "cell_type": "code",
   "execution_count": 7,
   "metadata": {},
   "outputs": [],
   "source": [
    "exmpB_data = read_file('Day14_exampleb.txt')\n"
   ]
  },
  {
   "cell_type": "code",
   "execution_count": 8,
   "metadata": {},
   "outputs": [],
   "source": [
    "data = test_data\n",
    "\n",
    "mem = {}\n",
    "for row in data:\n",
    "    if row[:3] == 'mas':\n",
    "        mask = row.split(' ')[2]\n",
    "    else:\n",
    "        mem_loc = int(row.split('[')[1].split(']')[0])\n",
    "        num = int(row.split(' ')[2])\n",
    "        masked_locs = apply_mask_v2(mask, mem_loc)\n",
    "        for mm in masked_locs:\n",
    "            mem[mm] = num"
   ]
  },
  {
   "cell_type": "code",
   "execution_count": 9,
   "metadata": {},
   "outputs": [
    {
     "name": "stdout",
     "output_type": "stream",
     "text": [
      "Part two solution: 4288986482164\n"
     ]
    }
   ],
   "source": [
    "# Get soltion by avoiding overflow\n",
    "tally = 0.0\n",
    "for key in mem.keys():\n",
    "    tally += float(mem[key])\n",
    "\n",
    "print('Part two solution: %s' %int(tally))"
   ]
  }
 ],
 "metadata": {
  "kernelspec": {
   "display_name": "gpag",
   "language": "python",
   "name": "gpag"
  },
  "language_info": {
   "codemirror_mode": {
    "name": "ipython",
    "version": 3
   },
   "file_extension": ".py",
   "mimetype": "text/x-python",
   "name": "python",
   "nbconvert_exporter": "python",
   "pygments_lexer": "ipython3",
   "version": "3.7.3"
  }
 },
 "nbformat": 4,
 "nbformat_minor": 2
}
