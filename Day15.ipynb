{
 "cells": [
  {
   "cell_type": "markdown",
   "metadata": {},
   "source": [
    "# Parts one and two"
   ]
  },
  {
   "cell_type": "code",
   "execution_count": 3,
   "metadata": {},
   "outputs": [
    {
     "name": "stdout",
     "output_type": "stream",
     "text": [
      "Part one solution: 260\n",
      "Part two solution: 950\n"
     ]
    }
   ],
   "source": [
    "starting = [13, 0, 10, 12, 1, 5, 8]\n",
    "for part, I in [('Part one', 2020), ('Part two', 30000000)]:\n",
    "    \n",
    "    mem = {}\n",
    "    for ii in range(I):\n",
    "        if ii < len(starting):\n",
    "            num = starting[ii]\n",
    "            mem[num] = ii\n",
    "            prev_num = num\n",
    "            prev_num_idx = None\n",
    "        else:\n",
    "            if prev_num_idx is not None:\n",
    "                num = ii-1-prev_num_idx\n",
    "            else:\n",
    "                num = 0\n",
    "            if num in mem.keys():\n",
    "                prev_num_idx = mem[num]    \n",
    "            else:\n",
    "                prev_num_idx = None\n",
    "            mem[num] = ii\n",
    "    print('%s solution: %s' %(part, num))"
   ]
  },
  {
   "cell_type": "code",
   "execution_count": null,
   "metadata": {},
   "outputs": [],
   "source": []
  }
 ],
 "metadata": {
  "kernelspec": {
   "display_name": "gpag",
   "language": "python",
   "name": "gpag"
  },
  "language_info": {
   "codemirror_mode": {
    "name": "ipython",
    "version": 3
   },
   "file_extension": ".py",
   "mimetype": "text/x-python",
   "name": "python",
   "nbconvert_exporter": "python",
   "pygments_lexer": "ipython3",
   "version": "3.7.3"
  }
 },
 "nbformat": 4,
 "nbformat_minor": 2
}
