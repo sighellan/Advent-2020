{
 "cells": [
  {
   "cell_type": "code",
   "execution_count": 1,
   "metadata": {},
   "outputs": [],
   "source": [
    "from helper import *\n",
    "import numpy as np\n",
    "import copy"
   ]
  },
  {
   "cell_type": "code",
   "execution_count": 2,
   "metadata": {},
   "outputs": [],
   "source": [
    "# Import and parse data\n",
    "exmp_data = read_file('Day17_example.txt')\n",
    "test_data = read_file('Day17.txt')\n",
    "\n",
    "data = test_data\n",
    "init_square = []\n",
    "\n",
    "for row in data:\n",
    "    init_square.append([0 if aa == '.' else 1 for aa in row])\n",
    "init_square = np.array(init_square)\n",
    "\n",
    "len_init, width_init = np.shape(init_square)"
   ]
  },
  {
   "cell_type": "markdown",
   "metadata": {},
   "source": [
    "# Part 1"
   ]
  },
  {
   "cell_type": "code",
   "execution_count": 3,
   "metadata": {},
   "outputs": [],
   "source": [
    "def get_neighbours(ii, jj, kk, grid):\n",
    "    tally = 0\n",
    "    for aa in [1, 0, -1]:\n",
    "        for bb in [1, 0, -1]:\n",
    "            for cc in [1, 0, -1]:\n",
    "                if aa == 0 and bb == 0 and cc == 0:\n",
    "                    pass\n",
    "                else:\n",
    "                    tally += grid[ii+aa, jj+bb, kk+cc]\n",
    "    return tally"
   ]
  },
  {
   "cell_type": "code",
   "execution_count": 4,
   "metadata": {},
   "outputs": [],
   "source": [
    "D = 3\n",
    "C = 6\n",
    "G = max(len_init,width_init)+2*(C+1)\n",
    "M = G//2\n",
    "\n",
    "init = np.zeros((G, G, G))\n",
    "init[M, M-len_init//2:M-len_init//2+len_init,\n",
    "     M-width_init//2:M-width_init//2+width_init] = init_square"
   ]
  },
  {
   "cell_type": "code",
   "execution_count": 5,
   "metadata": {},
   "outputs": [],
   "source": [
    "grid = init\n",
    "nb_grid = copy.deepcopy(grid)*0\n",
    "for ii in range(1, G-1):\n",
    "    for jj in range(1, G-1):\n",
    "        for kk in range(1, G-1):\n",
    "            nb_grid[ii, jj, kk] = get_neighbours(ii, jj, kk, grid)"
   ]
  },
  {
   "cell_type": "code",
   "execution_count": 6,
   "metadata": {},
   "outputs": [],
   "source": [
    "grid = init\n",
    "for cc in range(C):\n",
    "    ii_low, ii_high = M-cc-1, M+cc+2\n",
    "    jj_low = M-len_init//2-(cc)-1\n",
    "    jj_high = jj_low+len_init+2*(cc+1)\n",
    "    kk_low = M-width_init//2-(cc)-1\n",
    "    kk_high = kk_low+width_init+2*(cc+1)\n",
    "    new_grid = copy.deepcopy(grid)\n",
    "    for ii in range(ii_low, ii_high):\n",
    "        for jj in range(jj_low, jj_high):\n",
    "            for kk in range(kk_low, kk_high):\n",
    "                nb = get_neighbours(ii, jj, kk, grid)\n",
    "                if grid[ii, jj, kk] and (nb not in [2, 3]):\n",
    "                    new_grid[ii, jj, kk] = 0\n",
    "                elif (not grid[ii, jj, kk]) and (nb == 3):\n",
    "                    new_grid[ii, jj, kk] = 1\n",
    "    grid = new_grid\n",
    "                "
   ]
  },
  {
   "cell_type": "code",
   "execution_count": 7,
   "metadata": {},
   "outputs": [
    {
     "name": "stdout",
     "output_type": "stream",
     "text": [
      "Part one solution: 237\n"
     ]
    }
   ],
   "source": [
    "print('Part one solution: %s' %(int(np.sum(grid))))"
   ]
  },
  {
   "cell_type": "markdown",
   "metadata": {},
   "source": [
    "# Part 2"
   ]
  },
  {
   "cell_type": "code",
   "execution_count": 8,
   "metadata": {},
   "outputs": [],
   "source": [
    "def get_neighbours_4D(ii, jj, kk, ww, grid):\n",
    "    tally = 0\n",
    "    for aa in [1, 0, -1]:\n",
    "        for bb in [1, 0, -1]:\n",
    "            for cc in [1, 0, -1]:\n",
    "                for dd in [1, 0, -1]:\n",
    "                    if aa == 0 and bb == 0 and cc == 0 and dd == 0:\n",
    "                        pass\n",
    "                    else:\n",
    "                        tally += grid[ii+aa, jj+bb, kk+cc, ww+dd]\n",
    "    return tally"
   ]
  },
  {
   "cell_type": "code",
   "execution_count": 9,
   "metadata": {},
   "outputs": [],
   "source": [
    "D = 3\n",
    "C = 6\n",
    "G = max(len_init,width_init)+2*(C+1)\n",
    "M = G//2\n",
    "\n",
    "\n",
    "init = np.zeros((G, G, G, G))\n",
    "init[M,\n",
    "     M,\n",
    "     M-len_init//2:M-len_init//2+len_init,\n",
    "     M-width_init//2:M-width_init//2+width_init] = init_square"
   ]
  },
  {
   "cell_type": "code",
   "execution_count": 10,
   "metadata": {},
   "outputs": [],
   "source": [
    "grid = init\n",
    "for cc in range(C):\n",
    "    ii_low, ii_high = M-cc-1, M+cc+2\n",
    "    ww_low, ww_high = M-cc-1, M+cc+2\n",
    "    jj_low = M-len_init//2-(cc)-1\n",
    "    jj_high = jj_low+len_init+2*(cc+1)\n",
    "    kk_low = M-width_init//2-(cc)-1\n",
    "    kk_high = kk_low+width_init+2*(cc+1)\n",
    "    new_grid = copy.deepcopy(grid)\n",
    "    for ii in range(ii_low, ii_high):\n",
    "        for ww in range(ww_low, ww_high):\n",
    "            for jj in range(jj_low, jj_high):\n",
    "                for kk in range(kk_low, kk_high):\n",
    "                    nb = get_neighbours_4D(ii, ww, jj, kk, grid)\n",
    "                    if grid[ii, ww, jj, kk] and (nb not in [2, 3]):\n",
    "                        new_grid[ii, ww, jj, kk] = 0\n",
    "                    elif (not grid[ii, ww, jj, kk]) and (nb == 3):\n",
    "                        new_grid[ii, ww, jj, kk] = 1\n",
    "    grid = new_grid\n",
    "                "
   ]
  },
  {
   "cell_type": "code",
   "execution_count": 11,
   "metadata": {},
   "outputs": [
    {
     "name": "stdout",
     "output_type": "stream",
     "text": [
      "Part two solution: 2448\n"
     ]
    }
   ],
   "source": [
    "print('Part two solution: %s' %(int(np.sum(grid))))"
   ]
  },
  {
   "cell_type": "code",
   "execution_count": null,
   "metadata": {},
   "outputs": [],
   "source": []
  }
 ],
 "metadata": {
  "kernelspec": {
   "display_name": "gpag",
   "language": "python",
   "name": "gpag"
  },
  "language_info": {
   "codemirror_mode": {
    "name": "ipython",
    "version": 3
   },
   "file_extension": ".py",
   "mimetype": "text/x-python",
   "name": "python",
   "nbconvert_exporter": "python",
   "pygments_lexer": "ipython3",
   "version": "3.7.3"
  }
 },
 "nbformat": 4,
 "nbformat_minor": 2
}
