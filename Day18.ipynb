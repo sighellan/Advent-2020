{
 "cells": [
  {
   "cell_type": "code",
   "execution_count": 1,
   "metadata": {},
   "outputs": [],
   "source": [
    "from helper import *"
   ]
  },
  {
   "cell_type": "code",
   "execution_count": 2,
   "metadata": {},
   "outputs": [],
   "source": [
    "exmp_data = ['1 + 2 * 3 + 4 * 5 + 6', \n",
    "             '1 + (2 * 3)', \n",
    "             '1 + (2 * 3) + (4 * (5 + 6))',\n",
    "            '2 * 3 + (4 * 5)',\n",
    "            '5 + (8 * 3 + 9 + 3 * 4 * 3)',\n",
    "             '5 * 9 * (7 * 3 * 3 + 9 * 3 + (8 + 6 * 4))',\n",
    "             '((2 + 4 * 9) * (6 + 9 * 8 + 6) + 6) + 2 + 4 * 2'\n",
    "            ]\n",
    "test_data = read_file('Day18.txt')"
   ]
  },
  {
   "cell_type": "markdown",
   "metadata": {},
   "source": [
    "# Part 1"
   ]
  },
  {
   "cell_type": "code",
   "execution_count": 3,
   "metadata": {},
   "outputs": [],
   "source": [
    "def evaluate(ll, tally, idx):\n",
    "    cur_op = None\n",
    "    if tally is not None:\n",
    "        ii = idx\n",
    "    else:\n",
    "        if ll[idx] == '(':\n",
    "            ii = idx\n",
    "        else:\n",
    "            tally = int(ll[idx])\n",
    "            ii = idx+1\n",
    "    while ii < len(ll):\n",
    "        cc = ll[ii]\n",
    "        if cc == ' ':\n",
    "            ii += 1\n",
    "        elif cc in ['*', '+']:\n",
    "            cur_op = cc\n",
    "            ii += 1\n",
    "        elif cc == ')':\n",
    "            return tally, ii+1\n",
    "        elif cc == '(':\n",
    "            if cur_op == '+':\n",
    "                tally_rec, ii = evaluate(ll, None, ii+1)\n",
    "                tally += tally_rec\n",
    "            elif cur_op == '*':\n",
    "                tally_rec, ii = evaluate(ll, None, ii+1)\n",
    "                tally *= tally_rec\n",
    "            else:\n",
    "                tally, ii = evaluate(ll, None, ii+1)\n",
    "                \n",
    "            cur_op = None\n",
    "        else:\n",
    "            if cur_op == '+':\n",
    "                tally = tally + int(cc)\n",
    "            elif cur_op == '*':\n",
    "                tally = tally * int(cc)\n",
    "            else:\n",
    "                print(cur_op, cc, ii)\n",
    "                raise ValueError\n",
    "            cur_op = None\n",
    "            ii += 1\n",
    "    return tally, ii\n",
    "                "
   ]
  },
  {
   "cell_type": "code",
   "execution_count": 4,
   "metadata": {},
   "outputs": [
    {
     "name": "stdout",
     "output_type": "stream",
     "text": [
      "Part one solution: 67800526776934\n"
     ]
    }
   ],
   "source": [
    "tally = 0\n",
    "for aa in test_data:\n",
    "    tally += evaluate(aa, None, 0)[0]\n",
    "print('Part one solution: %s' %tally)"
   ]
  },
  {
   "cell_type": "markdown",
   "metadata": {},
   "source": [
    "# Part 2"
   ]
  },
  {
   "cell_type": "code",
   "execution_count": 5,
   "metadata": {},
   "outputs": [],
   "source": [
    "# Use previous evaluation, but preprocess by adding \n",
    "#  parenthesis around additions\n",
    "                \n",
    "# Practically - add parenthesis at start and end, \n",
    "#  and before and after all multiplication marks"
   ]
  },
  {
   "cell_type": "code",
   "execution_count": 6,
   "metadata": {},
   "outputs": [],
   "source": [
    "def preprocess(ll):\n",
    "    ll_double = ll.replace('(', '((').replace(')', '))')\n",
    "    ll_new = ll_double.replace(' * ', ') * (')\n",
    "    return '(' + ll_new + ')'"
   ]
  },
  {
   "cell_type": "code",
   "execution_count": 7,
   "metadata": {},
   "outputs": [
    {
     "name": "stdout",
     "output_type": "stream",
     "text": [
      "Part two solution: 340789638435483\n"
     ]
    }
   ],
   "source": [
    "tally = 0\n",
    "for aa in test_data:\n",
    "    aa_p = preprocess(aa)\n",
    "    tally += evaluate(aa_p, None, 0)[0]\n",
    "print('Part two solution: %s' %tally)"
   ]
  },
  {
   "cell_type": "code",
   "execution_count": null,
   "metadata": {},
   "outputs": [],
   "source": []
  }
 ],
 "metadata": {
  "kernelspec": {
   "display_name": "gpag",
   "language": "python",
   "name": "gpag"
  },
  "language_info": {
   "codemirror_mode": {
    "name": "ipython",
    "version": 3
   },
   "file_extension": ".py",
   "mimetype": "text/x-python",
   "name": "python",
   "nbconvert_exporter": "python",
   "pygments_lexer": "ipython3",
   "version": "3.7.3"
  }
 },
 "nbformat": 4,
 "nbformat_minor": 2
}
