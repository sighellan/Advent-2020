{
 "cells": [
  {
   "cell_type": "code",
   "execution_count": 1,
   "metadata": {},
   "outputs": [],
   "source": [
    "from helper import *"
   ]
  },
  {
   "cell_type": "code",
   "execution_count": 2,
   "metadata": {},
   "outputs": [],
   "source": [
    "import copy"
   ]
  },
  {
   "cell_type": "code",
   "execution_count": 3,
   "metadata": {},
   "outputs": [],
   "source": [
    "# Import data\n",
    "example_data = read_file('Day8_example.txt')\n",
    "test_data = read_file('Day8.txt')"
   ]
  },
  {
   "cell_type": "code",
   "execution_count": 4,
   "metadata": {},
   "outputs": [],
   "source": [
    "def run_code(data):\n",
    "    acc = 0\n",
    "    pos = 0\n",
    "    visited = set({})\n",
    "    while pos not in visited:\n",
    "        visited.add(pos)\n",
    "        try:\n",
    "            cur_line = data[pos].split(' ')\n",
    "        except:\n",
    "            print('Terminating')\n",
    "            print(acc)\n",
    "            return acc, 1\n",
    "        value = int(cur_line[1])\n",
    "        command = cur_line[0]\n",
    "        if command == 'nop':\n",
    "            pos += 1\n",
    "        elif command == 'jmp':\n",
    "            pos += value\n",
    "        elif command == 'acc':\n",
    "            acc += value\n",
    "            pos += 1\n",
    "        else:\n",
    "            raise('Error')\n",
    "    return acc, 0"
   ]
  },
  {
   "cell_type": "markdown",
   "metadata": {},
   "source": [
    "# Part one"
   ]
  },
  {
   "cell_type": "code",
   "execution_count": 5,
   "metadata": {},
   "outputs": [
    {
     "name": "stdout",
     "output_type": "stream",
     "text": [
      "Part one solution: 1528\n"
     ]
    }
   ],
   "source": [
    "part_one_sol, _ = run_code(test_data)\n",
    "print('Part one solution: %s' %part_one_sol)"
   ]
  },
  {
   "cell_type": "markdown",
   "metadata": {},
   "source": [
    "# Part two "
   ]
  },
  {
   "cell_type": "code",
   "execution_count": 6,
   "metadata": {},
   "outputs": [
    {
     "name": "stdout",
     "output_type": "stream",
     "text": [
      "Terminating\n",
      "640\n",
      "Part two solution: 640\n"
     ]
    }
   ],
   "source": [
    "data = copy.deepcopy(test_data)\n",
    "for ii in range(len(data)):\n",
    "    if data[ii].split(' ')[0] == 'acc':\n",
    "        continue\n",
    "    elif data[ii].split(' ')[0] == 'nop':\n",
    "        data[ii] = 'jmp' + ' ' + data[ii].split(' ')[1]\n",
    "        acc, flag = run_code(data)\n",
    "        if flag:\n",
    "            print('Part two solution: %s' %acc)\n",
    "            break\n",
    "        data[ii] = 'nop' + ' ' + data[ii].split(' ')[1]\n",
    "    elif data[ii].split(' ')[0] == 'jmp':\n",
    "        data[ii] = 'nop' + ' ' + data[ii].split(' ')[1]\n",
    "        acc, flag = run_code(data)\n",
    "        if flag:\n",
    "            print('Part two solution: %s' %acc)\n",
    "            break\n",
    "        data[ii] = 'jmp' + ' ' + data[ii].split(' ')[1]"
   ]
  },
  {
   "cell_type": "code",
   "execution_count": null,
   "metadata": {},
   "outputs": [],
   "source": []
  }
 ],
 "metadata": {
  "kernelspec": {
   "display_name": "gpag",
   "language": "python",
   "name": "gpag"
  },
  "language_info": {
   "codemirror_mode": {
    "name": "ipython",
    "version": 3
   },
   "file_extension": ".py",
   "mimetype": "text/x-python",
   "name": "python",
   "nbconvert_exporter": "python",
   "pygments_lexer": "ipython3",
   "version": "3.7.3"
  }
 },
 "nbformat": 4,
 "nbformat_minor": 2
}
