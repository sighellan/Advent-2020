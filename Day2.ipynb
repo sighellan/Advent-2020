{
 "cells": [
  {
   "cell_type": "code",
   "execution_count": 1,
   "metadata": {},
   "outputs": [],
   "source": [
    "import numpy as np"
   ]
  },
  {
   "cell_type": "markdown",
   "metadata": {},
   "source": [
    "# Part 1"
   ]
  },
  {
   "cell_type": "code",
   "execution_count": 2,
   "metadata": {},
   "outputs": [
    {
     "name": "stdout",
     "output_type": "stream",
     "text": [
      "Part one solution: 628\n"
     ]
    }
   ],
   "source": [
    "num_valid = 0\n",
    "file_name_test = 'Day2_example.txt'\n",
    "file_name = 'Day2.txt'\n",
    "\n",
    "with open(file_name) as inp_file:\n",
    "    for row in inp_file:\n",
    "        row_list = row.split(' ')\n",
    "        num_low  = int(row_list[0].split('-')[0])\n",
    "        num_high = int(row_list[0].split('-')[1])\n",
    "        letter = row_list[1][:-1]\n",
    "        password = np.array(list(row_list[2]))\n",
    "        \n",
    "        num_letter = np.sum(letter == password)\n",
    "        if num_letter >= num_low and num_letter <= num_high:\n",
    "            num_valid += 1\n",
    "            \n",
    "print('Part one solution: %s' %num_valid)"
   ]
  },
  {
   "cell_type": "markdown",
   "metadata": {},
   "source": [
    "# Part 2"
   ]
  },
  {
   "cell_type": "code",
   "execution_count": 3,
   "metadata": {},
   "outputs": [
    {
     "name": "stdout",
     "output_type": "stream",
     "text": [
      "Part two solution: 705\n"
     ]
    }
   ],
   "source": [
    "num_valid = 0\n",
    "\n",
    "with open(file_name) as inp_file:\n",
    "    for row in inp_file:\n",
    "        row_list = row.split(' ')\n",
    "        num_low  = int(row_list[0].split('-')[0])\n",
    "        num_high = int(row_list[0].split('-')[1])\n",
    "        letter = row_list[1][:-1]\n",
    "        password = np.array(list(row_list[2]))\n",
    "        \n",
    "        if (letter == password[num_low-1]) ^ (letter == password[num_high-1]):\n",
    "            num_valid += 1\n",
    "            \n",
    "print('Part two solution: %s' %num_valid)"
   ]
  },
  {
   "cell_type": "code",
   "execution_count": null,
   "metadata": {},
   "outputs": [],
   "source": []
  }
 ],
 "metadata": {
  "kernelspec": {
   "display_name": "gpag",
   "language": "python",
   "name": "gpag"
  },
  "language_info": {
   "codemirror_mode": {
    "name": "ipython",
    "version": 3
   },
   "file_extension": ".py",
   "mimetype": "text/x-python",
   "name": "python",
   "nbconvert_exporter": "python",
   "pygments_lexer": "ipython3",
   "version": "3.7.3"
  }
 },
 "nbformat": 4,
 "nbformat_minor": 2
}
