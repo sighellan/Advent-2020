{
 "cells": [
  {
   "cell_type": "code",
   "execution_count": 1,
   "metadata": {},
   "outputs": [],
   "source": [
    "from helper import *\n",
    "import copy\n",
    "import numpy as np"
   ]
  },
  {
   "cell_type": "code",
   "execution_count": 2,
   "metadata": {},
   "outputs": [],
   "source": [
    "# Import data\n",
    "data_ex1 = read_file('Day10_example1.txt', take_int=True)\n",
    "data_ex2 = read_file('Day10_example2.txt', take_int=True)\n",
    "data_test = read_file('Day10.txt', take_int=True)"
   ]
  },
  {
   "cell_type": "markdown",
   "metadata": {},
   "source": [
    "# Part 1"
   ]
  },
  {
   "cell_type": "code",
   "execution_count": 3,
   "metadata": {},
   "outputs": [
    {
     "name": "stdout",
     "output_type": "stream",
     "text": [
      "[0, 73, 0, 31]\n",
      "Part one solution: 2263\n"
     ]
    }
   ],
   "source": [
    "data = copy.deepcopy(data_test)\n",
    "\n",
    "data = sorted(data)\n",
    "\n",
    "jumps = [0]*4\n",
    "jumps[3] = 1 # Final jump\n",
    "prev = 0\n",
    "for ii in range(0, len(data)):\n",
    "    jumps[data[ii]-prev] += 1\n",
    "    prev = data[ii]\n",
    "    \n",
    "    \n",
    "print(jumps)\n",
    "print('Part one solution: %s' %(jumps[1]*jumps[3]))"
   ]
  },
  {
   "cell_type": "markdown",
   "metadata": {},
   "source": [
    "# Part 2"
   ]
  },
  {
   "cell_type": "code",
   "execution_count": 4,
   "metadata": {},
   "outputs": [],
   "source": [
    "def check_valid(snippet):\n",
    "    snippet = sorted(snippet)\n",
    "    prev = snippet[0]\n",
    "    for ii in range(1, len(snippet)):\n",
    "        if snippet[ii] - prev > 3:\n",
    "            return False\n",
    "        prev = snippet[ii]\n",
    "    return True\n",
    "\n",
    "def get_versions(snippet):\n",
    "    versions = [[snippet[0], snippet[-1]]]\n",
    "    for aa in range(1, len(snippet)-1):\n",
    "        vers_new = []\n",
    "        for vv in versions:\n",
    "            vers_new.append(vv+[snippet[aa]])\n",
    "            vers_new.append(vv)\n",
    "        versions = vers_new\n",
    "    return versions\n",
    "\n",
    "def get_factor(cur_list, stored):\n",
    "    key = tuple(cur_list)\n",
    "    # Check if answer has already been computed\n",
    "    if key in stored.keys():\n",
    "        return stored[key]\n",
    "    else:\n",
    "        # Generate all combinations\n",
    "        versions = get_versions(cur_list)\n",
    "        \n",
    "        # Count how many are valid\n",
    "        count = 0\n",
    "        for vv in versions:\n",
    "            if check_valid(vv):\n",
    "                count += 1\n",
    "        stored[key] = count\n",
    "        return count"
   ]
  },
  {
   "cell_type": "code",
   "execution_count": 5,
   "metadata": {},
   "outputs": [],
   "source": [
    "# Preprocess data\n",
    "data = copy.deepcopy(data_test)\n",
    "\n",
    "data = sorted(data)\n",
    "data.append(data[-1]+3)"
   ]
  },
  {
   "cell_type": "code",
   "execution_count": 6,
   "metadata": {},
   "outputs": [
    {
     "name": "stdout",
     "output_type": "stream",
     "text": [
      "Part two solution: 396857386627072\n"
     ]
    }
   ],
   "source": [
    "prev = 0\n",
    "start = 0\n",
    "cur_list = [0]\n",
    "remembered = {}\n",
    "combs = 1\n",
    "for ii in range(0, len(data)):\n",
    "    nn = data[ii]\n",
    "    cur_list.append(nn)\n",
    "    if nn - prev == 3:\n",
    "        combs = combs * get_factor(np.array(cur_list)-cur_list[0], remembered)\n",
    "        cur_list = [nn]\n",
    "    prev = nn\n",
    "print('Part two solution: %s' %combs)"
   ]
  }
 ],
 "metadata": {
  "kernelspec": {
   "display_name": "gpag",
   "language": "python",
   "name": "gpag"
  },
  "language_info": {
   "codemirror_mode": {
    "name": "ipython",
    "version": 3
   },
   "file_extension": ".py",
   "mimetype": "text/x-python",
   "name": "python",
   "nbconvert_exporter": "python",
   "pygments_lexer": "ipython3",
   "version": "3.7.3"
  }
 },
 "nbformat": 4,
 "nbformat_minor": 2
}
